{
 "cells": [
  {
   "cell_type": "code",
   "execution_count": 14,
   "metadata": {
    "collapsed": false,
    "deletable": true,
    "editable": true
   },
   "outputs": [
    {
     "name": "stdout",
     "output_type": "stream",
     "text": [
      "(309, 18)\n"
     ]
    },
    {
     "data": {
      "text/html": [
       "<div>\n",
       "<style>\n",
       "    .dataframe thead tr:only-child th {\n",
       "        text-align: right;\n",
       "    }\n",
       "\n",
       "    .dataframe thead th {\n",
       "        text-align: left;\n",
       "    }\n",
       "\n",
       "    .dataframe tbody tr th {\n",
       "        vertical-align: top;\n",
       "    }\n",
       "</style>\n",
       "<table border=\"1\" class=\"dataframe\">\n",
       "  <thead>\n",
       "    <tr style=\"text-align: right;\">\n",
       "      <th></th>\n",
       "      <th>age</th>\n",
       "      <th>sex</th>\n",
       "      <th>histologic-type</th>\n",
       "      <th>degree-of-diffe</th>\n",
       "      <th>bone</th>\n",
       "      <th>bone-marrow</th>\n",
       "      <th>lung</th>\n",
       "      <th>pleura</th>\n",
       "      <th>peritoneum</th>\n",
       "      <th>liver</th>\n",
       "      <th>brain</th>\n",
       "      <th>skin</th>\n",
       "      <th>neck</th>\n",
       "      <th>supraclavicular</th>\n",
       "      <th>axillar</th>\n",
       "      <th>mediastinum</th>\n",
       "      <th>abdominal</th>\n",
       "      <th>class</th>\n",
       "    </tr>\n",
       "  </thead>\n",
       "  <tbody>\n",
       "    <tr>\n",
       "      <th>0</th>\n",
       "      <td>&gt;=60</td>\n",
       "      <td>female</td>\n",
       "      <td>NaN</td>\n",
       "      <td>NaN</td>\n",
       "      <td>False</td>\n",
       "      <td>False</td>\n",
       "      <td>False</td>\n",
       "      <td>False</td>\n",
       "      <td>False</td>\n",
       "      <td>True</td>\n",
       "      <td>False</td>\n",
       "      <td>False</td>\n",
       "      <td>False</td>\n",
       "      <td>False</td>\n",
       "      <td>False</td>\n",
       "      <td>False</td>\n",
       "      <td>False</td>\n",
       "      <td>lung</td>\n",
       "    </tr>\n",
       "    <tr>\n",
       "      <th>1</th>\n",
       "      <td>&gt;=60</td>\n",
       "      <td>male</td>\n",
       "      <td>NaN</td>\n",
       "      <td>poorly</td>\n",
       "      <td>False</td>\n",
       "      <td>False</td>\n",
       "      <td>False</td>\n",
       "      <td>False</td>\n",
       "      <td>False</td>\n",
       "      <td>True</td>\n",
       "      <td>False</td>\n",
       "      <td>False</td>\n",
       "      <td>False</td>\n",
       "      <td>True</td>\n",
       "      <td>False</td>\n",
       "      <td>True</td>\n",
       "      <td>False</td>\n",
       "      <td>lung</td>\n",
       "    </tr>\n",
       "    <tr>\n",
       "      <th>2</th>\n",
       "      <td>30-59</td>\n",
       "      <td>female</td>\n",
       "      <td>adefalse</td>\n",
       "      <td>NaN</td>\n",
       "      <td>False</td>\n",
       "      <td>False</td>\n",
       "      <td>False</td>\n",
       "      <td>True</td>\n",
       "      <td>False</td>\n",
       "      <td>False</td>\n",
       "      <td>False</td>\n",
       "      <td>True</td>\n",
       "      <td>False</td>\n",
       "      <td>False</td>\n",
       "      <td>True</td>\n",
       "      <td>False</td>\n",
       "      <td>False</td>\n",
       "      <td>breast</td>\n",
       "    </tr>\n",
       "    <tr>\n",
       "      <th>3</th>\n",
       "      <td>30-59</td>\n",
       "      <td>female</td>\n",
       "      <td>adefalse</td>\n",
       "      <td>NaN</td>\n",
       "      <td>False</td>\n",
       "      <td>False</td>\n",
       "      <td>False</td>\n",
       "      <td>False</td>\n",
       "      <td>True</td>\n",
       "      <td>False</td>\n",
       "      <td>False</td>\n",
       "      <td>False</td>\n",
       "      <td>False</td>\n",
       "      <td>False</td>\n",
       "      <td>False</td>\n",
       "      <td>False</td>\n",
       "      <td>False</td>\n",
       "      <td>ovary</td>\n",
       "    </tr>\n",
       "    <tr>\n",
       "      <th>4</th>\n",
       "      <td>30-59</td>\n",
       "      <td>female</td>\n",
       "      <td>adefalse</td>\n",
       "      <td>NaN</td>\n",
       "      <td>False</td>\n",
       "      <td>False</td>\n",
       "      <td>False</td>\n",
       "      <td>True</td>\n",
       "      <td>True</td>\n",
       "      <td>False</td>\n",
       "      <td>False</td>\n",
       "      <td>False</td>\n",
       "      <td>False</td>\n",
       "      <td>False</td>\n",
       "      <td>False</td>\n",
       "      <td>False</td>\n",
       "      <td>False</td>\n",
       "      <td>ovary</td>\n",
       "    </tr>\n",
       "  </tbody>\n",
       "</table>\n",
       "</div>"
      ],
      "text/plain": [
       "     age     sex histologic-type degree-of-diffe   bone  bone-marrow   lung  \\\n",
       "0   >=60  female             NaN             NaN  False        False  False   \n",
       "1   >=60    male             NaN          poorly  False        False  False   \n",
       "2  30-59  female        adefalse             NaN  False        False  False   \n",
       "3  30-59  female        adefalse             NaN  False        False  False   \n",
       "4  30-59  female        adefalse             NaN  False        False  False   \n",
       "\n",
       "   pleura  peritoneum  liver  brain   skin   neck  supraclavicular axillar  \\\n",
       "0   False       False   True  False  False  False            False   False   \n",
       "1   False       False   True  False  False  False             True   False   \n",
       "2    True       False  False  False   True  False            False    True   \n",
       "3   False        True  False  False  False  False            False   False   \n",
       "4    True        True  False  False  False  False            False   False   \n",
       "\n",
       "   mediastinum  abdominal   class  \n",
       "0        False      False    lung  \n",
       "1         True      False    lung  \n",
       "2        False      False  breast  \n",
       "3        False      False   ovary  \n",
       "4        False      False   ovary  "
      ]
     },
     "execution_count": 14,
     "metadata": {},
     "output_type": "execute_result"
    }
   ],
   "source": [
    "import pandas as pd\n",
    "import numpy as np\n",
    "from matplotlib import pyplot as plt\n",
    "df = pd.read_csv(r'C:\\\\Users\\\\joel\\\\Documents\\\\Notebooks\\\\.ipynb_checkpoints\\\\tumor data\\\\tumorData.csv')\n",
    "print (df.shape)\n",
    "df.head()\n",
    "# a small dataset"
   ]
  },
  {
   "cell_type": "code",
   "execution_count": 11,
   "metadata": {
    "collapsed": false,
    "deletable": true,
    "editable": true
   },
   "outputs": [
    {
     "data": {
      "text/html": [
       "<div>\n",
       "<style>\n",
       "    .dataframe thead tr:only-child th {\n",
       "        text-align: right;\n",
       "    }\n",
       "\n",
       "    .dataframe thead th {\n",
       "        text-align: left;\n",
       "    }\n",
       "\n",
       "    .dataframe tbody tr th {\n",
       "        vertical-align: top;\n",
       "    }\n",
       "</style>\n",
       "<table border=\"1\" class=\"dataframe\">\n",
       "  <thead>\n",
       "    <tr style=\"text-align: right;\">\n",
       "      <th></th>\n",
       "      <th>variables</th>\n",
       "      <th>missing_percentage</th>\n",
       "    </tr>\n",
       "  </thead>\n",
       "  <tbody>\n",
       "    <tr>\n",
       "      <th>3</th>\n",
       "      <td>degree-of-diffe</td>\n",
       "      <td>44.983819</td>\n",
       "    </tr>\n",
       "    <tr>\n",
       "      <th>2</th>\n",
       "      <td>histologic-type</td>\n",
       "      <td>21.035599</td>\n",
       "    </tr>\n",
       "    <tr>\n",
       "      <th>11</th>\n",
       "      <td>skin</td>\n",
       "      <td>0.323625</td>\n",
       "    </tr>\n",
       "    <tr>\n",
       "      <th>14</th>\n",
       "      <td>axillar</td>\n",
       "      <td>0.323625</td>\n",
       "    </tr>\n",
       "    <tr>\n",
       "      <th>1</th>\n",
       "      <td>sex</td>\n",
       "      <td>0.323625</td>\n",
       "    </tr>\n",
       "    <tr>\n",
       "      <th>0</th>\n",
       "      <td>age</td>\n",
       "      <td>0.000000</td>\n",
       "    </tr>\n",
       "    <tr>\n",
       "      <th>16</th>\n",
       "      <td>abdominal</td>\n",
       "      <td>0.000000</td>\n",
       "    </tr>\n",
       "    <tr>\n",
       "      <th>15</th>\n",
       "      <td>mediastinum</td>\n",
       "      <td>0.000000</td>\n",
       "    </tr>\n",
       "    <tr>\n",
       "      <th>13</th>\n",
       "      <td>supraclavicular</td>\n",
       "      <td>0.000000</td>\n",
       "    </tr>\n",
       "    <tr>\n",
       "      <th>12</th>\n",
       "      <td>neck</td>\n",
       "      <td>0.000000</td>\n",
       "    </tr>\n",
       "    <tr>\n",
       "      <th>9</th>\n",
       "      <td>liver</td>\n",
       "      <td>0.000000</td>\n",
       "    </tr>\n",
       "    <tr>\n",
       "      <th>10</th>\n",
       "      <td>brain</td>\n",
       "      <td>0.000000</td>\n",
       "    </tr>\n",
       "    <tr>\n",
       "      <th>8</th>\n",
       "      <td>peritoneum</td>\n",
       "      <td>0.000000</td>\n",
       "    </tr>\n",
       "    <tr>\n",
       "      <th>7</th>\n",
       "      <td>pleura</td>\n",
       "      <td>0.000000</td>\n",
       "    </tr>\n",
       "    <tr>\n",
       "      <th>6</th>\n",
       "      <td>lung</td>\n",
       "      <td>0.000000</td>\n",
       "    </tr>\n",
       "    <tr>\n",
       "      <th>5</th>\n",
       "      <td>bone-marrow</td>\n",
       "      <td>0.000000</td>\n",
       "    </tr>\n",
       "    <tr>\n",
       "      <th>4</th>\n",
       "      <td>bone</td>\n",
       "      <td>0.000000</td>\n",
       "    </tr>\n",
       "    <tr>\n",
       "      <th>17</th>\n",
       "      <td>class</td>\n",
       "      <td>0.000000</td>\n",
       "    </tr>\n",
       "  </tbody>\n",
       "</table>\n",
       "</div>"
      ],
      "text/plain": [
       "          variables  missing_percentage\n",
       "3   degree-of-diffe           44.983819\n",
       "2   histologic-type           21.035599\n",
       "11             skin            0.323625\n",
       "14          axillar            0.323625\n",
       "1               sex            0.323625\n",
       "0               age            0.000000\n",
       "16        abdominal            0.000000\n",
       "15      mediastinum            0.000000\n",
       "13  supraclavicular            0.000000\n",
       "12             neck            0.000000\n",
       "9             liver            0.000000\n",
       "10            brain            0.000000\n",
       "8        peritoneum            0.000000\n",
       "7            pleura            0.000000\n",
       "6              lung            0.000000\n",
       "5       bone-marrow            0.000000\n",
       "4              bone            0.000000\n",
       "17            class            0.000000"
      ]
     },
     "execution_count": 11,
     "metadata": {},
     "output_type": "execute_result"
    }
   ],
   "source": [
    "# creating a function for missing values dataframe\n",
    "def missing(df):\n",
    "    missing_val = pd.DataFrame(df.isnull().sum())\n",
    "    missing_val = missing_val.reset_index()\n",
    "    missing_val = missing_val.rename(columns = {'index':'variables',0:'missing_percentage'})\n",
    "    missing_val['missing_percentage'] = (missing_val['missing_percentage']/df.shape[0])*100\n",
    "    missing_val = missing_val.sort_values(by='missing_percentage',ascending=False)\n",
    "    return missing_val\n",
    "\n",
    "missing(df)"
   ]
  },
  {
   "cell_type": "code",
   "execution_count": 9,
   "metadata": {
    "collapsed": false,
    "deletable": true,
    "editable": true,
    "scrolled": true
   },
   "outputs": [
    {
     "name": "stdout",
     "output_type": "stream",
     "text": [
      "age :  [2. 0. 1.]\n",
      "sex :  [0. 1.]\n",
      "histologic-type :  [0. 2. 1.]\n",
      "bone :  [0. 1.]\n",
      "bone-marrow :  [0. 1.]\n",
      "lung :  [0. 1.]\n",
      "pleura :  [0. 1.]\n",
      "peritoneum :  [0. 1.]\n",
      "liver :  [1. 0.]\n",
      "brain :  [0. 1.]\n",
      "skin :  [0. 1.]\n",
      "neck :  [0. 1.]\n",
      "supraclavicular :  [0. 1.]\n",
      "axillar :  [0. 1.]\n",
      "mediastinum :  [0. 1.]\n",
      "abdominal :  [0. 1.]\n",
      "class :  [11.  1. 12.  3. 14.  8. 19. 13. 10.  9. 16. 15.  7. 17.  6.  4. 18.  2.\n",
      "  5.  0. 20.]\n"
     ]
    }
   ],
   "source": [
    "# let's look at unique values\n",
    "for i in df.columns:\n",
    "    print (i,': ',df[i].unique())\n",
    "           "
   ]
  },
  {
   "cell_type": "code",
   "execution_count": 15,
   "metadata": {
    "collapsed": false,
    "deletable": true,
    "editable": true
   },
   "outputs": [
    {
     "name": "stdout",
     "output_type": "stream",
     "text": [
      "age\n",
      "original data:  {'30-59', '>=60', '<30'}\n",
      "numeric data:  {0, 1, 2}\n",
      "\n",
      "\n",
      "sex\n",
      "original data:  {nan, 'female', 'male'}\n",
      "numeric data:  {0, 1, -1}\n",
      "\n",
      "\n",
      "histologic-type\n",
      "original data:  {nan, 'adefalse', 'anaplastic', 'epidermoid'}\n",
      "numeric data:  {0, 1, 2, -1}\n",
      "\n",
      "\n",
      "bone\n",
      "original data:  {False, True}\n",
      "numeric data:  {0, 1}\n",
      "\n",
      "\n",
      "bone-marrow\n",
      "original data:  {False, True}\n",
      "numeric data:  {0, 1}\n",
      "\n",
      "\n",
      "lung\n",
      "original data:  {False, True}\n",
      "numeric data:  {0, 1}\n",
      "\n",
      "\n",
      "pleura\n",
      "original data:  {False, True}\n",
      "numeric data:  {0, 1}\n",
      "\n",
      "\n",
      "peritoneum\n",
      "original data:  {False, True}\n",
      "numeric data:  {0, 1}\n",
      "\n",
      "\n",
      "liver\n",
      "original data:  {False, True}\n",
      "numeric data:  {0, 1}\n",
      "\n",
      "\n",
      "brain\n",
      "original data:  {False, True}\n",
      "numeric data:  {0, 1}\n",
      "\n",
      "\n",
      "skin\n",
      "original data:  {False, True, nan}\n",
      "numeric data:  {0, 1, -1}\n",
      "\n",
      "\n",
      "neck\n",
      "original data:  {False, True}\n",
      "numeric data:  {0, 1}\n",
      "\n",
      "\n",
      "supraclavicular\n",
      "original data:  {False, True}\n",
      "numeric data:  {0, 1}\n",
      "\n",
      "\n",
      "axillar\n",
      "original data:  {False, True, nan}\n",
      "numeric data:  {0, 1, -1}\n",
      "\n",
      "\n",
      "mediastinum\n",
      "original data:  {False, True}\n",
      "numeric data:  {0, 1}\n",
      "\n",
      "\n",
      "abdominal\n",
      "original data:  {False, True}\n",
      "numeric data:  {0, 1}\n",
      "\n",
      "\n",
      "class\n",
      "original data:  {'liver', 'ovary', 'thyroid', 'duoden and sm.int', 'breast', 'lung', 'head and neck', 'gallbladder', 'testis', 'vagina', 'salivary glands', 'esophagus', 'prostate', 'corpus uteri', 'kidney', 'stomach', 'bladder', 'cervix uteri', 'colon', 'pancreas', 'rectum'}\n",
      "numeric data:  {0, 1, 2, 3, 4, 5, 6, 7, 8, 9, 10, 11, 12, 13, 14, 15, 16, 17, 18, 19, 20}\n",
      "\n",
      "\n",
      "age :  [2 0 1]\n",
      "sex :  [ 0.  1. nan]\n",
      "histologic-type :  [nan  0.  2.  1.]\n",
      "bone :  [0 1]\n",
      "bone-marrow :  [0 1]\n",
      "lung :  [0 1]\n",
      "pleura :  [0 1]\n",
      "peritoneum :  [0 1]\n",
      "liver :  [1 0]\n",
      "brain :  [0 1]\n",
      "skin :  [ 0.  1. nan]\n",
      "neck :  [0 1]\n",
      "supraclavicular :  [0 1]\n",
      "axillar :  [ 0.  1. nan]\n",
      "mediastinum :  [0 1]\n",
      "abdominal :  [0 1]\n",
      "class :  [11  1 12  3 14  8 19 13 10  9 16 15  7 17  6  4 18  2  5  0 20]\n"
     ]
    },
    {
     "data": {
      "text/html": [
       "<div>\n",
       "<style>\n",
       "    .dataframe thead tr:only-child th {\n",
       "        text-align: right;\n",
       "    }\n",
       "\n",
       "    .dataframe thead th {\n",
       "        text-align: left;\n",
       "    }\n",
       "\n",
       "    .dataframe tbody tr th {\n",
       "        vertical-align: top;\n",
       "    }\n",
       "</style>\n",
       "<table border=\"1\" class=\"dataframe\">\n",
       "  <thead>\n",
       "    <tr style=\"text-align: right;\">\n",
       "      <th></th>\n",
       "      <th>variables</th>\n",
       "      <th>missing_percentage</th>\n",
       "    </tr>\n",
       "  </thead>\n",
       "  <tbody>\n",
       "    <tr>\n",
       "      <th>0</th>\n",
       "      <td>age</td>\n",
       "      <td>0.0</td>\n",
       "    </tr>\n",
       "    <tr>\n",
       "      <th>9</th>\n",
       "      <td>brain</td>\n",
       "      <td>0.0</td>\n",
       "    </tr>\n",
       "    <tr>\n",
       "      <th>15</th>\n",
       "      <td>abdominal</td>\n",
       "      <td>0.0</td>\n",
       "    </tr>\n",
       "    <tr>\n",
       "      <th>14</th>\n",
       "      <td>mediastinum</td>\n",
       "      <td>0.0</td>\n",
       "    </tr>\n",
       "    <tr>\n",
       "      <th>13</th>\n",
       "      <td>axillar</td>\n",
       "      <td>0.0</td>\n",
       "    </tr>\n",
       "    <tr>\n",
       "      <th>12</th>\n",
       "      <td>supraclavicular</td>\n",
       "      <td>0.0</td>\n",
       "    </tr>\n",
       "    <tr>\n",
       "      <th>11</th>\n",
       "      <td>neck</td>\n",
       "      <td>0.0</td>\n",
       "    </tr>\n",
       "    <tr>\n",
       "      <th>10</th>\n",
       "      <td>skin</td>\n",
       "      <td>0.0</td>\n",
       "    </tr>\n",
       "    <tr>\n",
       "      <th>8</th>\n",
       "      <td>liver</td>\n",
       "      <td>0.0</td>\n",
       "    </tr>\n",
       "    <tr>\n",
       "      <th>1</th>\n",
       "      <td>sex</td>\n",
       "      <td>0.0</td>\n",
       "    </tr>\n",
       "    <tr>\n",
       "      <th>7</th>\n",
       "      <td>peritoneum</td>\n",
       "      <td>0.0</td>\n",
       "    </tr>\n",
       "    <tr>\n",
       "      <th>6</th>\n",
       "      <td>pleura</td>\n",
       "      <td>0.0</td>\n",
       "    </tr>\n",
       "    <tr>\n",
       "      <th>5</th>\n",
       "      <td>lung</td>\n",
       "      <td>0.0</td>\n",
       "    </tr>\n",
       "    <tr>\n",
       "      <th>4</th>\n",
       "      <td>bone-marrow</td>\n",
       "      <td>0.0</td>\n",
       "    </tr>\n",
       "    <tr>\n",
       "      <th>3</th>\n",
       "      <td>bone</td>\n",
       "      <td>0.0</td>\n",
       "    </tr>\n",
       "    <tr>\n",
       "      <th>2</th>\n",
       "      <td>histologic-type</td>\n",
       "      <td>0.0</td>\n",
       "    </tr>\n",
       "    <tr>\n",
       "      <th>16</th>\n",
       "      <td>class</td>\n",
       "      <td>0.0</td>\n",
       "    </tr>\n",
       "  </tbody>\n",
       "</table>\n",
       "</div>"
      ],
      "text/plain": [
       "          variables  missing_percentage\n",
       "0               age                 0.0\n",
       "9             brain                 0.0\n",
       "15        abdominal                 0.0\n",
       "14      mediastinum                 0.0\n",
       "13          axillar                 0.0\n",
       "12  supraclavicular                 0.0\n",
       "11             neck                 0.0\n",
       "10             skin                 0.0\n",
       "8             liver                 0.0\n",
       "1               sex                 0.0\n",
       "7        peritoneum                 0.0\n",
       "6            pleura                 0.0\n",
       "5              lung                 0.0\n",
       "4       bone-marrow                 0.0\n",
       "3              bone                 0.0\n",
       "2   histologic-type                 0.0\n",
       "16            class                 0.0"
      ]
     },
     "execution_count": 15,
     "metadata": {},
     "output_type": "execute_result"
    }
   ],
   "source": [
    "#imputation of missing-values\n",
    "# dropping column 'degree-of-diffe' as it has 44% missing values, above limit of 30% missing values\n",
    "# dataset needs imputation for columns 'sex','histologic-type','skin','axillar'\n",
    "df.drop(['degree-of-diffe'],axis=1,inplace = True)\n",
    "#import random\n",
    "#from missingpy import KNNImputer # imputer library for python 3.5.2\n",
    "# Doing KNN-imputation over the dataframe\n",
    "#df = pd.DataFrame(KNNImputer(n_neighbors=3, weights=\"distance\").fit_transform(df), columns = df.columns)\n",
    "\n",
    "# converting categorical data to numeric-categorical data before imputation\n",
    "for i in df.columns:\n",
    "    print (i)\n",
    "    print ('original data: ',set(df[i]))\n",
    "    df[i] = pd.Categorical(df[i])\n",
    "    df[i] = df[i].cat.codes\n",
    "    df[i] = df[i].astype('object')\n",
    "    print ('numeric data: ',set(df[i]))\n",
    "    print ('\\n')\n",
    "    \n",
    "df = df.replace(to_replace=-1,value = np.NaN)\n",
    "# let's look at unique values again\n",
    "for i in df.columns:\n",
    "    print (i,': ',df[i].unique())\n",
    "    \n",
    "from sklearn.preprocessing import Imputer\n",
    "imp = Imputer(missing_values='NaN', strategy='most_frequent', axis=0)\n",
    "imp = imp.fit(df)\n",
    "df = pd.DataFrame(data = imp.fit_transform(df.values),columns = df.columns)\n",
    "\n",
    "missing(df)"
   ]
  },
  {
   "cell_type": "code",
   "execution_count": 16,
   "metadata": {
    "collapsed": false,
    "deletable": true,
    "editable": true
   },
   "outputs": [
    {
     "name": "stdout",
     "output_type": "stream",
     "text": [
      "age :  [2. 0. 1.]\n",
      "sex :  [0. 1.]\n",
      "histologic-type :  [0. 2. 1.]\n",
      "bone :  [0. 1.]\n",
      "bone-marrow :  [0. 1.]\n",
      "lung :  [0. 1.]\n",
      "pleura :  [0. 1.]\n",
      "peritoneum :  [0. 1.]\n",
      "liver :  [1. 0.]\n",
      "brain :  [0. 1.]\n",
      "skin :  [0. 1.]\n",
      "neck :  [0. 1.]\n",
      "supraclavicular :  [0. 1.]\n",
      "axillar :  [0. 1.]\n",
      "mediastinum :  [0. 1.]\n",
      "abdominal :  [0. 1.]\n",
      "class :  [11.  1. 12.  3. 14.  8. 19. 13. 10.  9. 16. 15.  7. 17.  6.  4. 18.  2.\n",
      "  5.  0. 20.]\n"
     ]
    }
   ],
   "source": [
    "for i in df.columns:\n",
    "    print (i,': ',df[i].unique())"
   ]
  },
  {
   "cell_type": "code",
   "execution_count": 17,
   "metadata": {
    "collapsed": false,
    "deletable": true,
    "editable": true
   },
   "outputs": [
    {
     "name": "stdout",
     "output_type": "stream",
     "text": [
      "age\n"
     ]
    },
    {
     "data": {
      "image/png": "[encoded data removed]",
      "text/plain": [
       "<matplotlib.figure.Figure at 0x1dfb4ba5b70>"
      ]
     },
     "metadata": {},
     "output_type": "display_data"
    },
    {
     "name": "stdout",
     "output_type": "stream",
     "text": [
      "sex\n"
     ]
    },
    {
     "data": {
      "image/png": "[encoded data removed]",
      "text/plain": [
       "<matplotlib.figure.Figure at 0x1dfb6c1aef0>"
      ]
     },
     "metadata": {},
     "output_type": "display_data"
    },
    {
     "name": "stdout",
     "output_type": "stream",
     "text": [
      "histologic-type\n"
     ]
    },
    {
     "data": {
      "image/png": "[encoded data removed]",
      "text/plain": [
       "<matplotlib.figure.Figure at 0x1dfb6cd0588>"
      ]
     },
     "metadata": {},
     "output_type": "display_data"
    },
    {
     "name": "stdout",
     "output_type": "stream",
     "text": [
      "bone\n"
     ]
    },
    {
     "data": {
      "image/png": "[encoded data removed]",
      "text/plain": [
       "<matplotlib.figure.Figure at 0x1dfb6c2c828>"
      ]
     },
     "metadata": {},
     "output_type": "display_data"
    },
    {
     "name": "stdout",
     "output_type": "stream",
     "text": [
      "bone-marrow\n"
     ]
    },
    {
     "data": {
      "image/png": "[encoded data removed]",
      "text/plain": [
       "<matplotlib.figure.Figure at 0x1dfb6cdac88>"
      ]
     },
     "metadata": {},
     "output_type": "display_data"
    },
    {
     "name": "stdout",
     "output_type": "stream",
     "text": [
      "lung\n"
     ]
    },
    {
     "data": {
      "image/png": "[encoded data removed]",
      "text/plain": [
       "<matplotlib.figure.Figure at 0x1dfb6d18748>"
      ]
     },
     "metadata": {},
     "output_type": "display_data"
    },
    {
     "name": "stdout",
     "output_type": "stream",
     "text": [
      "pleura\n"
     ]
    },
    {
     "data": {
      "image/png": "[encoded data removed]",
      "text/plain": [
       "<matplotlib.figure.Figure at 0x1dfb6d7fb38>"
      ]
     },
     "metadata": {},
     "output_type": "display_data"
    },
    {
     "name": "stdout",
     "output_type": "stream",
     "text": [
      "peritoneum\n"
     ]
    },
    {
     "data": {
      "image/png": "[encoded data removed]",
      "text/plain": [
       "<matplotlib.figure.Figure at 0x1dfb6de5a58>"
      ]
     },
     "metadata": {},
     "output_type": "display_data"
    },
    {
     "name": "stdout",
     "output_type": "stream",
     "text": [
      "liver\n"
     ]
    },
    {
     "data": {
      "image/png": "[encoded data removed]",
      "text/plain": [
       "<matplotlib.figure.Figure at 0x1dfb6e4d668>"
      ]
     },
     "metadata": {},
     "output_type": "display_data"
    },
    {
     "name": "stdout",
     "output_type": "stream",
     "text": [
      "brain\n"
     ]
    },
    {
     "data": {
      "image/png": "[encoded data removed]",
      "text/plain": [
       "<matplotlib.figure.Figure at 0x1dfb6ebe0b8>"
      ]
     },
     "metadata": {},
     "output_type": "display_data"
    },
    {
     "name": "stdout",
     "output_type": "stream",
     "text": [
      "skin\n"
     ]
    },
    {
     "data": {
      "image/png": "[encoded data removed]",
      "text/plain": [
       "<matplotlib.figure.Figure at 0x1dfb6f2a4a8>"
      ]
     },
     "metadata": {},
     "output_type": "display_data"
    },
    {
     "name": "stdout",
     "output_type": "stream",
     "text": [
      "neck\n"
     ]
    },
    {
     "data": {
      "image/png": "[encoded data removed]",
      "text/plain": [
       "<matplotlib.figure.Figure at 0x1dfb6f92c50>"
      ]
     },
     "metadata": {},
     "output_type": "display_data"
    },
    {
     "name": "stdout",
     "output_type": "stream",
     "text": [
      "supraclavicular\n"
     ]
    },
    {
     "data": {
      "image/png": "[encoded data removed]",
      "text/plain": [
       "<matplotlib.figure.Figure at 0x1dfb6ffc080>"
      ]
     },
     "metadata": {},
     "output_type": "display_data"
    },
    {
     "name": "stdout",
     "output_type": "stream",
     "text": [
      "axillar\n"
     ]
    },
    {
     "data": {
      "image/png": "[encoded data removed]",
      "text/plain": [
       "<matplotlib.figure.Figure at 0x1dfb803e2e8>"
      ]
     },
     "metadata": {},
     "output_type": "display_data"
    },
    {
     "name": "stdout",
     "output_type": "stream",
     "text": [
      "mediastinum\n"
     ]
    },
    {
     "data": {
      "image/png": "[encoded data removed]",
      "text/plain": [
       "<matplotlib.figure.Figure at 0x1dfb6fe5898>"
      ]
     },
     "metadata": {},
     "output_type": "display_data"
    },
    {
     "name": "stdout",
     "output_type": "stream",
     "text": [
      "abdominal\n"
     ]
    },
    {
     "data": {
      "image/png": "[encoded data removed]",
      "text/plain": [
       "<matplotlib.figure.Figure at 0x1dfb6f9d7b8>"
      ]
     },
     "metadata": {},
     "output_type": "display_data"
    },
    {
     "name": "stdout",
     "output_type": "stream",
     "text": [
      "class\n"
     ]
    },
    {
     "data": {
      "image/png": "[encoded data removed]",
      "text/plain": [
       "<matplotlib.figure.Figure at 0x1dfb6fc0320>"
      ]
     },
     "metadata": {},
     "output_type": "display_data"
    }
   ],
   "source": [
    "df.head(20)\n",
    "for i in df.columns:\n",
    "    print (i)\n",
    "    df[i].value_counts().plot(kind='bar')\n",
    "    plt.show()\n",
    "# all independent variables are categorical and the target dependent variable too is a mutliclass variables, \n",
    "# all we could visualize is the count of each of these variables.         "
   ]
  },
  {
   "cell_type": "code",
   "execution_count": 18,
   "metadata": {
    "collapsed": false,
    "deletable": true,
    "editable": true
   },
   "outputs": [
    {
     "name": "stdout",
     "output_type": "stream",
     "text": [
      "age\n",
      "0.04183261157610096\n",
      "Relation present\n",
      "\n",
      "\n",
      "sex\n",
      "1.487034560593383e-11\n",
      "Relation present\n",
      "\n",
      "\n",
      "histologic-type\n",
      "4.452730088912344e-11\n",
      "Relation present\n",
      "\n",
      "\n",
      "bone\n",
      "1.9109541617509375e-08\n",
      "Relation present\n",
      "\n",
      "\n",
      "bone-marrow\n",
      "0.9974737311413986\n",
      "No relation with target\n",
      "\n",
      "\n",
      "lung\n",
      "0.005544436710494043\n",
      "Relation present\n",
      "\n",
      "\n",
      "pleura\n",
      "0.2698915475547603\n",
      "No relation with target\n",
      "\n",
      "\n",
      "peritoneum\n",
      "1.9286418608513214e-07\n",
      "Relation present\n",
      "\n",
      "\n",
      "liver\n",
      "1.5177095198579764e-07\n",
      "Relation present\n",
      "\n",
      "\n",
      "brain\n",
      "0.29716127814158877\n",
      "No relation with target\n",
      "\n",
      "\n",
      "skin\n",
      "0.49669529935389956\n",
      "No relation with target\n",
      "\n",
      "\n",
      "neck\n",
      "4.110213128113377e-21\n",
      "Relation present\n",
      "\n",
      "\n",
      "supraclavicular\n",
      "7.065417165122757e-05\n",
      "Relation present\n",
      "\n",
      "\n",
      "axillar\n",
      "7.328552483980596e-20\n",
      "Relation present\n",
      "\n",
      "\n",
      "mediastinum\n",
      "4.5785080702030164e-07\n",
      "Relation present\n",
      "\n",
      "\n",
      "abdominal\n",
      "5.9866536517919134e-06\n",
      "Relation present\n",
      "\n",
      "\n"
     ]
    },
    {
     "data": {
      "text/plain": [
       "['bone-marrow', 'pleura', 'brain', 'skin']"
      ]
     },
     "execution_count": 18,
     "metadata": {},
     "output_type": "execute_result"
    }
   ],
   "source": [
    "# doing a chi2 contingency test would help us show which variables have a relationship with the target.\n",
    "from scipy.stats import chi2_contingency\n",
    "\n",
    "not_related=[]\n",
    "for i in df.columns[:-1]:\n",
    "    print(i)\n",
    "    chi2, p, dof, ex = chi2_contingency(pd.crosstab(df['class'], df[i]))\n",
    "    print(p)\n",
    "    if p>0.05:\n",
    "        print ('No relation with target')\n",
    "        not_related.append(i)\n",
    "    else:\n",
    "        print ('Relation present')\n",
    "    print ('\\n')\n",
    "    \n",
    "not_related\n",
    "# shows ['bone-marrow','pleura','brain','skin'] are not related as shown by ANOVA test\n",
    "# let's also apply 2 more feature importance tests before we conclude which variables to keep and remove"
   ]
  },
  {
   "cell_type": "code",
   "execution_count": 19,
   "metadata": {
    "collapsed": false
   },
   "outputs": [
    {
     "name": "stderr",
     "output_type": "stream",
     "text": [
      "C:\\Users\\joel\\AppData\\Local\\Enthought\\Canopy\\edm\\envs\\User\\lib\\site-packages\\sklearn\\ensemble\\weight_boosting.py:29: DeprecationWarning: numpy.core.umath_tests is an internal NumPy module and should not be imported. It will be removed in a future NumPy release.\n",
      "  from numpy.core.umath_tests import inner1d\n"
     ]
    },
    {
     "name": "stdout",
     "output_type": "stream",
     "text": [
      "[0.12728857 0.07376536 0.06064572 0.05083441 0.00678574 0.08678965\n",
      " 0.07074631 0.05178148 0.0744076  0.03170397 0.0338353  0.06087924\n",
      " 0.05393182 0.04943079 0.08435408 0.08281995]\n"
     ]
    },
    {
     "data": {
      "image/png": "[encoded data removed]",
      "text/plain": [
       "<matplotlib.figure.Figure at 0x1dfb8277240>"
      ]
     },
     "metadata": {},
     "output_type": "display_data"
    }
   ],
   "source": [
    "# let's perform two more feature selection techniques\n",
    "# Let's perform a feature importance test\n",
    "# this test gives you a score for each feature of your data, the higher score shows more importance/relevance \n",
    "# of that feature towards your target variable\n",
    "# it uses a tree-based classifiers approach\n",
    "\n",
    "from matplotlib import pyplot as plt\n",
    "import seaborn as sns\n",
    "from sklearn.ensemble import ExtraTreesClassifier\n",
    "\n",
    "X = df.iloc[:,:-1]\n",
    "y = df['class']\n",
    "importances = ExtraTreesClassifier().fit(X,y)\n",
    "print (importances.feature_importances_)\n",
    "\n",
    "# Let's look at the scores visually\n",
    "\n",
    "values = pd.Series(importances.feature_importances_, index = df.columns[:-1])\n",
    "values.nlargest(df.shape[1]-1).plot(kind='bar')\n",
    "plt.figsize=(10,15)\n",
    "plt.show()\n",
    "\n",
    "# this test too shows bone-marrow, barin and skin as the least important variables\n",
    "# but pleura is shown somewhere in the middle\n",
    "# let's perform Random-Forest-Classifier feature selection test too\n",
    "# before we finally decide on whcih features to keep"
   ]
  },
  {
   "cell_type": "code",
   "execution_count": 22,
   "metadata": {
    "collapsed": false
   },
   "outputs": [
    {
     "name": "stdout",
     "output_type": "stream",
     "text": [
      "[ True  True False  True False  True  True  True  True False False False\n",
      " False False False  True]\n",
      "Random-forest based features selected: \n",
      "Index(['age', 'sex', 'bone', 'lung', 'pleura', 'peritoneum', 'liver',\n",
      "       'abdominal'],\n",
      "      dtype='object')\n",
      "\n",
      "\n",
      "removable/unrelated:  ['histologic-type', 'bone-marrow', 'brain', 'skin', 'neck', 'supraclavicular', 'axillar', 'mediastinum']\n"
     ]
    }
   ],
   "source": [
    "from sklearn.ensemble import RandomForestClassifier\n",
    "from sklearn.feature_selection import SelectFromModel\n",
    "\n",
    "X = df.iloc[:,:-1]\n",
    "sel_ = SelectFromModel(RandomForestClassifier())\n",
    "\n",
    "sel_.fit(X, df['class'])\n",
    "\n",
    "# Visualising features that were kept by the lasso regularisation\n",
    "print (sel_.get_support())\n",
    "selected_feat = X.columns[(sel_.get_support())] # gives the remaining features\n",
    "print ('Random-forest based features selected: ')\n",
    "print (selected_feat)\n",
    "print ('\\n')\n",
    "\n",
    "print ('removable/unrelated: ',[i for i in df.columns[:-1] if i not in selected_feat])\n",
    "\n",
    "# lasso-logistic feature selection model is showing like previous other tests that all the existing variables are necessary\n",
    "# the Random-Forest feature selection method is shwoing that only ['age', 'fnlwgt', 'educational-num', 'relationship'] variables\n",
    "# are important\n",
    "# we'll create another dataframe with just ['age', 'fnlwgt', 'educational-num', 'relationship'] variables\n",
    "# and develop some models over both dataframes to see which one gives better results, does the second dataframe actually reduce\n",
    "# overfitting"
   ]
  },
  {
   "cell_type": "code",
   "execution_count": 24,
   "metadata": {
    "collapsed": false,
    "deletable": true,
    "editable": true
   },
   "outputs": [
    {
     "name": "stdout",
     "output_type": "stream",
     "text": [
      "df:  Index(['age', 'sex', 'histologic-type', 'bone', 'lung', 'peritoneum', 'liver',\n",
      "       'neck', 'supraclavicular', 'axillar', 'mediastinum', 'abdominal',\n",
      "       'class'],\n",
      "      dtype='object')\n",
      "df2:  Index(['age', 'sex', 'bone', 'lung', 'pleura', 'peritoneum', 'liver',\n",
      "       'abdominal'],\n",
      "      dtype='object')\n"
     ]
    }
   ],
   "source": [
    "# the random-forest feature selection method is showing more variables which are unrelated than what we previously\n",
    "#  measured in ANOVA analysis\n",
    "# what we can do is we can remove the 4 variables what were shown in ANOVA analysis (because 2 more test supported it)\n",
    "# from the original df.\n",
    "# Also, we can create another df2 that will have only features deemed important by the random-forest feature selection method \n",
    "# we will develop some models over both dataframes to see which one gives better results, \n",
    "# does the second dataframe actually reduce overfitting\n",
    "\n",
    "df2 = df[['age', 'sex', 'bone', 'lung', 'pleura', 'peritoneum', 'liver','abdominal']] # \n",
    "df = df.drop(['bone-marrow','pleura','brain','skin'],axis=1) # as indicated by the ANOVA analysis\n",
    "print ('df: ',df.columns)\n",
    "print ('df2: ',df2.columns)"
   ]
  },
  {
   "cell_type": "code",
   "execution_count": 31,
   "metadata": {
    "collapsed": false,
    "deletable": true,
    "editable": true
   },
   "outputs": [
    {
     "name": "stdout",
     "output_type": "stream",
     "text": [
      "df: \n",
      "X_train:  (247, 12) Y_train: (247,)\n",
      "X_test:  (62, 12) Y_test:  (62,)\n",
      "df2: \n",
      "X_train2:  (247, 8) Y_train2: (247,)\n",
      "X_test2:  (62, 8) Y_test2:  (62,)\n"
     ]
    }
   ],
   "source": [
    "from sklearn.cross_validation import train_test_split\n",
    "from sklearn.metrics import accuracy_score\n",
    "from sklearn.metrics import mean_absolute_error as MAE\n",
    "\n",
    "# split df\n",
    "X_train,X_test,Y_train,Y_test = train_test_split(df.iloc[:,:-1],df.iloc[:,-1],test_size=0.2)\n",
    "# split df2\n",
    "X_train2,X_test2,Y_train2,Y_test2 = train_test_split(df2,df.iloc[:,-1],test_size=0.2)\n",
    "\n",
    "print ('df: ')\n",
    "print ('X_train: ',X_train.shape,'Y_train:',Y_train.shape)\n",
    "print ('X_test: ',X_test.shape,'Y_test: ',Y_test.shape)\n",
    "\n",
    "print ('df2: ')\n",
    "print ('X_train2: ',X_train2.shape,'Y_train2:',Y_train2.shape)\n",
    "print ('X_test2: ',X_test2.shape,'Y_test2: ',Y_test2.shape)\n",
    "\n",
    "\n",
    "\n",
    "def error_metrics(ytrue,ypreds):\n",
    "    print ('accuracy_score: ',round(accuracy_score(ytrue,ypreds)*100,2),' %')\n",
    "    print ('MAE: ',round(MAE(ytrue,ypreds),2),' %')\n"
   ]
  },
  {
   "cell_type": "code",
   "execution_count": 32,
   "metadata": {
    "collapsed": false,
    "deletable": true,
    "editable": true
   },
   "outputs": [
    {
     "name": "stdout",
     "output_type": "stream",
     "text": [
      "accuracy_score:  22.58  %\n",
      "MAE:  5.48  %\n",
      "accuracy_score:  16.13  %\n",
      "MAE:  5.52  %\n"
     ]
    }
   ],
   "source": [
    "from sklearn.tree import DecisionTreeClassifier\n",
    "DT_model = DecisionTreeClassifier(criterion='entropy').fit(X_train,Y_train)\n",
    "DT_preds = DT_model.predict(X_test)\n",
    "error_metrics(Y_test,DT_preds)\n",
    "\n",
    "DT_model2 = DecisionTreeClassifier(criterion='entropy').fit(X_train2,Y_train2)\n",
    "DT_preds2 = DT_model2.predict(X_test2)\n",
    "error_metrics(Y_test2,DT_preds2)"
   ]
  },
  {
   "cell_type": "code",
   "execution_count": 33,
   "metadata": {
    "collapsed": false,
    "deletable": true,
    "editable": true
   },
   "outputs": [
    {
     "name": "stdout",
     "output_type": "stream",
     "text": [
      "accuracy_score:  33.87  %\n",
      "MAE:  3.73  %\n",
      "accuracy_score:  25.81  %\n",
      "MAE:  4.53  %\n"
     ]
    }
   ],
   "source": [
    "from sklearn.ensemble import RandomForestClassifier\n",
    "RF_model = RandomForestClassifier(n_estimators=30).fit(X_train,Y_train)\n",
    "RF_preds = RF_model.predict(X_test)\n",
    "error_metrics(Y_test,RF_preds)\n",
    "\n",
    "RF_model2 = RandomForestClassifier(n_estimators=30).fit(X_train2,Y_train2)\n",
    "RF_preds2 = RF_model2.predict(X_test2)\n",
    "error_metrics(Y_test2,RF_preds2)"
   ]
  },
  {
   "cell_type": "code",
   "execution_count": 34,
   "metadata": {
    "collapsed": false,
    "deletable": true,
    "editable": true
   },
   "outputs": [
    {
     "name": "stdout",
     "output_type": "stream",
     "text": [
      "accuracy_score:  38.71  %\n",
      "MAE:  3.56  %\n",
      "accuracy_score:  24.19  %\n",
      "MAE:  3.89  %\n"
     ]
    }
   ],
   "source": [
    "from sklearn.naive_bayes import MultinomialNB\n",
    "NB_model = MultinomialNB().fit(X_train,Y_train)\n",
    "NB_preds = NB_model.predict(X_test)\n",
    "error_metrics(Y_test,NB_preds)\n",
    "\n",
    "NB_model2 = MultinomialNB().fit(X_train2,Y_train2)\n",
    "NB_preds2 = NB_model2.predict(X_test2)\n",
    "error_metrics(Y_test2,NB_preds2)"
   ]
  },
  {
   "cell_type": "code",
   "execution_count": 35,
   "metadata": {
    "collapsed": false,
    "deletable": true,
    "editable": true
   },
   "outputs": [
    {
     "name": "stdout",
     "output_type": "stream",
     "text": [
      "accuracy_score:  40.32  %\n",
      "MAE:  3.71  %\n"
     ]
    }
   ],
   "source": [
    "from sklearn.neighbors import KNeighborsClassifier\n",
    "K_model = KNeighborsClassifier(n_neighbors=5).fit(X=X_train, y=Y_train)\n",
    "K_preds = K_model.predict(X_test)\n",
    "error_metrics(Y_test,K_preds)"
   ]
  },
  {
   "cell_type": "code",
   "execution_count": null,
   "metadata": {
    "collapsed": true
   },
   "outputs": [],
   "source": [
    "# comparing the accuracy and FNR on df and df2, df is the better dataset with necessar variables\n",
    "# we will now begin developing deep-learning models over the data df"
   ]
  },
  {
   "cell_type": "code",
   "execution_count": 36,
   "metadata": {
    "collapsed": false,
    "deletable": true,
    "editable": true
   },
   "outputs": [
    {
     "name": "stdout",
     "output_type": "stream",
     "text": [
      "   age  sex  histologic-type  bone  lung  peritoneum  liver  neck  \\\n",
      "0  2.0  0.0              0.0   0.0   0.0         0.0    1.0   0.0   \n",
      "1  2.0  1.0              0.0   0.0   0.0         0.0    1.0   0.0   \n",
      "2  0.0  0.0              0.0   0.0   0.0         0.0    0.0   0.0   \n",
      "3  0.0  0.0              0.0   0.0   0.0         1.0    0.0   0.0   \n",
      "4  0.0  0.0              0.0   0.0   0.0         1.0    0.0   0.0   \n",
      "5  0.0  1.0              0.0   0.0   0.0         0.0    1.0   0.0   \n",
      "6  0.0  1.0              0.0   1.0   0.0         0.0    0.0   0.0   \n",
      "7  0.0  0.0              0.0   1.0   0.0         0.0    0.0   0.0   \n",
      "8  0.0  1.0              0.0   0.0   0.0         0.0    0.0   1.0   \n",
      "9  0.0  0.0              0.0   0.0   0.0         1.0    1.0   0.0   \n",
      "\n",
      "   supraclavicular  axillar  mediastinum  abdominal  class  \n",
      "0              0.0      0.0          0.0        0.0   11.0  \n",
      "1              1.0      0.0          1.0        0.0   11.0  \n",
      "2              0.0      1.0          0.0        0.0    1.0  \n",
      "3              0.0      0.0          0.0        0.0   12.0  \n",
      "4              0.0      0.0          0.0        0.0   12.0  \n",
      "5              0.0      0.0          0.0        0.0    3.0  \n",
      "6              0.0      0.0          0.0        0.0   14.0  \n",
      "7              0.0      0.0          1.0        0.0   11.0  \n",
      "8              1.0      0.0          0.0        0.0   14.0  \n",
      "9              0.0      0.0          0.0        0.0   12.0  \n",
      "   age_0.0  age_1.0  age_2.0  sex_0.0  sex_1.0  histologic-type_0.0  \\\n",
      "0        0        0        1        1        0                    1   \n",
      "1        0        0        1        0        1                    1   \n",
      "2        1        0        0        1        0                    1   \n",
      "3        1        0        0        1        0                    1   \n",
      "4        1        0        0        1        0                    1   \n",
      "5        1        0        0        0        1                    1   \n",
      "6        1        0        0        0        1                    1   \n",
      "7        1        0        0        1        0                    1   \n",
      "8        1        0        0        0        1                    1   \n",
      "9        1        0        0        1        0                    1   \n",
      "\n",
      "   histologic-type_1.0  histologic-type_2.0  bone_0.0  bone_1.0  \\\n",
      "0                    0                    0         1         0   \n",
      "1                    0                    0         1         0   \n",
      "2                    0                    0         1         0   \n",
      "3                    0                    0         1         0   \n",
      "4                    0                    0         1         0   \n",
      "5                    0                    0         1         0   \n",
      "6                    0                    0         0         1   \n",
      "7                    0                    0         0         1   \n",
      "8                    0                    0         1         0   \n",
      "9                    0                    0         1         0   \n",
      "\n",
      "       ...        neck_0.0  neck_1.0  supraclavicular_0.0  \\\n",
      "0      ...               1         0                    1   \n",
      "1      ...               1         0                    0   \n",
      "2      ...               1         0                    1   \n",
      "3      ...               1         0                    1   \n",
      "4      ...               1         0                    1   \n",
      "5      ...               1         0                    1   \n",
      "6      ...               1         0                    1   \n",
      "7      ...               1         0                    1   \n",
      "8      ...               0         1                    0   \n",
      "9      ...               1         0                    1   \n",
      "\n",
      "   supraclavicular_1.0  axillar_0.0  axillar_1.0  mediastinum_0.0  \\\n",
      "0                    0            1            0                1   \n",
      "1                    1            1            0                0   \n",
      "2                    0            0            1                1   \n",
      "3                    0            1            0                1   \n",
      "4                    0            1            0                1   \n",
      "5                    0            1            0                1   \n",
      "6                    0            1            0                1   \n",
      "7                    0            1            0                0   \n",
      "8                    1            1            0                1   \n",
      "9                    0            1            0                1   \n",
      "\n",
      "   mediastinum_1.0  abdominal_0.0  abdominal_1.0  \n",
      "0                0              1              0  \n",
      "1                1              1              0  \n",
      "2                0              1              0  \n",
      "3                0              1              0  \n",
      "4                0              1              0  \n",
      "5                0              1              0  \n",
      "6                0              1              0  \n",
      "7                1              1              0  \n",
      "8                0              1              0  \n",
      "9                0              1              0  \n",
      "\n",
      "[10 rows x 26 columns]\n",
      "   class_0.0  class_1.0  class_2.0  class_3.0  class_4.0  class_5.0  \\\n",
      "0          0          0          0          0          0          0   \n",
      "1          0          0          0          0          0          0   \n",
      "2          0          1          0          0          0          0   \n",
      "3          0          0          0          0          0          0   \n",
      "4          0          0          0          0          0          0   \n",
      "5          0          0          0          1          0          0   \n",
      "6          0          0          0          0          0          0   \n",
      "7          0          0          0          0          0          0   \n",
      "8          0          0          0          0          0          0   \n",
      "9          0          0          0          0          0          0   \n",
      "\n",
      "   class_6.0  class_7.0  class_8.0  class_9.0     ...      class_11.0  \\\n",
      "0          0          0          0          0     ...               1   \n",
      "1          0          0          0          0     ...               1   \n",
      "2          0          0          0          0     ...               0   \n",
      "3          0          0          0          0     ...               0   \n",
      "4          0          0          0          0     ...               0   \n",
      "5          0          0          0          0     ...               0   \n",
      "6          0          0          0          0     ...               0   \n",
      "7          0          0          0          0     ...               1   \n",
      "8          0          0          0          0     ...               0   \n",
      "9          0          0          0          0     ...               0   \n",
      "\n",
      "   class_12.0  class_13.0  class_14.0  class_15.0  class_16.0  class_17.0  \\\n",
      "0           0           0           0           0           0           0   \n",
      "1           0           0           0           0           0           0   \n",
      "2           0           0           0           0           0           0   \n",
      "3           1           0           0           0           0           0   \n",
      "4           1           0           0           0           0           0   \n",
      "5           0           0           0           0           0           0   \n",
      "6           0           0           1           0           0           0   \n",
      "7           0           0           0           0           0           0   \n",
      "8           0           0           1           0           0           0   \n",
      "9           1           0           0           0           0           0   \n",
      "\n",
      "   class_18.0  class_19.0  class_20.0  \n",
      "0           0           0           0  \n",
      "1           0           0           0  \n",
      "2           0           0           0  \n",
      "3           0           0           0  \n",
      "4           0           0           0  \n",
      "5           0           0           0  \n",
      "6           0           0           0  \n",
      "7           0           0           0  \n",
      "8           0           0           0  \n",
      "9           0           0           0  \n",
      "\n",
      "[10 rows x 21 columns]\n",
      "dependent:  (309, 26)\n",
      "target:  (309, 21)\n"
     ]
    }
   ],
   "source": [
    "\n",
    "categorical = ['age', 'sex', 'histologic-type', 'bone', 'lung', 'peritoneum', 'liver',\n",
    "                   'neck', 'supraclavicular', 'axillar', 'mediastinum', 'abdominal']\n",
    "\n",
    "dependent = pd.DataFrame() # an empty deep-learning dataframe to begin with\n",
    "\n",
    "# before we begin applying Keras Deep-learning module on the dataset,\n",
    "# let's make the one hot encoded dataset for DL\n",
    "\n",
    "for c in categorical:\n",
    "    temp = pd.get_dummies(df[c],prefix=c)\n",
    "    dependent=pd.concat([dependent,temp],axis=1)\n",
    "    \n",
    "\n",
    "target = pd.get_dummies(df['class'],prefix='class') # for one-hot-encoding the target\n",
    "\n",
    "\n",
    "print (df.head(10))\n",
    "print (dependent.head(10))\n",
    "print (target.head(10))\n",
    "print ('dependent: ',dependent.shape)\n",
    "print ('target: ',target.shape)\n",
    "# dependent:  (309, 26)\n",
    "# target:  (309, 21)"
   ]
  },
  {
   "cell_type": "code",
   "execution_count": 26,
   "metadata": {
    "collapsed": false,
    "deletable": true,
    "editable": true
   },
   "outputs": [
    {
     "data": {
      "text/html": [
       "<div>\n",
       "<style>\n",
       "    .dataframe thead tr:only-child th {\n",
       "        text-align: right;\n",
       "    }\n",
       "\n",
       "    .dataframe thead th {\n",
       "        text-align: left;\n",
       "    }\n",
       "\n",
       "    .dataframe tbody tr th {\n",
       "        vertical-align: top;\n",
       "    }\n",
       "</style>\n",
       "<table border=\"1\" class=\"dataframe\">\n",
       "  <thead>\n",
       "    <tr style=\"text-align: right;\">\n",
       "      <th></th>\n",
       "      <th>age</th>\n",
       "      <th>sex</th>\n",
       "      <th>histologic-type</th>\n",
       "      <th>bone</th>\n",
       "      <th>lung</th>\n",
       "      <th>peritoneum</th>\n",
       "      <th>liver</th>\n",
       "      <th>neck</th>\n",
       "      <th>supraclavicular</th>\n",
       "      <th>axillar</th>\n",
       "      <th>mediastinum</th>\n",
       "      <th>abdominal</th>\n",
       "      <th>class</th>\n",
       "    </tr>\n",
       "  </thead>\n",
       "  <tbody>\n",
       "    <tr>\n",
       "      <th>0</th>\n",
       "      <td>2.0</td>\n",
       "      <td>0.0</td>\n",
       "      <td>-1.0</td>\n",
       "      <td>0.0</td>\n",
       "      <td>0.0</td>\n",
       "      <td>0.0</td>\n",
       "      <td>1.0</td>\n",
       "      <td>0.0</td>\n",
       "      <td>0.0</td>\n",
       "      <td>0.0</td>\n",
       "      <td>0.0</td>\n",
       "      <td>0.0</td>\n",
       "      <td>11.0</td>\n",
       "    </tr>\n",
       "    <tr>\n",
       "      <th>1</th>\n",
       "      <td>2.0</td>\n",
       "      <td>1.0</td>\n",
       "      <td>-1.0</td>\n",
       "      <td>0.0</td>\n",
       "      <td>0.0</td>\n",
       "      <td>0.0</td>\n",
       "      <td>1.0</td>\n",
       "      <td>0.0</td>\n",
       "      <td>1.0</td>\n",
       "      <td>0.0</td>\n",
       "      <td>1.0</td>\n",
       "      <td>0.0</td>\n",
       "      <td>11.0</td>\n",
       "    </tr>\n",
       "    <tr>\n",
       "      <th>2</th>\n",
       "      <td>0.0</td>\n",
       "      <td>0.0</td>\n",
       "      <td>0.0</td>\n",
       "      <td>0.0</td>\n",
       "      <td>0.0</td>\n",
       "      <td>0.0</td>\n",
       "      <td>0.0</td>\n",
       "      <td>0.0</td>\n",
       "      <td>0.0</td>\n",
       "      <td>1.0</td>\n",
       "      <td>0.0</td>\n",
       "      <td>0.0</td>\n",
       "      <td>1.0</td>\n",
       "    </tr>\n",
       "    <tr>\n",
       "      <th>3</th>\n",
       "      <td>0.0</td>\n",
       "      <td>0.0</td>\n",
       "      <td>0.0</td>\n",
       "      <td>0.0</td>\n",
       "      <td>0.0</td>\n",
       "      <td>1.0</td>\n",
       "      <td>0.0</td>\n",
       "      <td>0.0</td>\n",
       "      <td>0.0</td>\n",
       "      <td>0.0</td>\n",
       "      <td>0.0</td>\n",
       "      <td>0.0</td>\n",
       "      <td>12.0</td>\n",
       "    </tr>\n",
       "    <tr>\n",
       "      <th>4</th>\n",
       "      <td>0.0</td>\n",
       "      <td>0.0</td>\n",
       "      <td>0.0</td>\n",
       "      <td>0.0</td>\n",
       "      <td>0.0</td>\n",
       "      <td>1.0</td>\n",
       "      <td>0.0</td>\n",
       "      <td>0.0</td>\n",
       "      <td>0.0</td>\n",
       "      <td>0.0</td>\n",
       "      <td>0.0</td>\n",
       "      <td>0.0</td>\n",
       "      <td>12.0</td>\n",
       "    </tr>\n",
       "    <tr>\n",
       "      <th>5</th>\n",
       "      <td>0.0</td>\n",
       "      <td>1.0</td>\n",
       "      <td>0.0</td>\n",
       "      <td>0.0</td>\n",
       "      <td>0.0</td>\n",
       "      <td>0.0</td>\n",
       "      <td>1.0</td>\n",
       "      <td>0.0</td>\n",
       "      <td>0.0</td>\n",
       "      <td>0.0</td>\n",
       "      <td>0.0</td>\n",
       "      <td>0.0</td>\n",
       "      <td>3.0</td>\n",
       "    </tr>\n",
       "    <tr>\n",
       "      <th>6</th>\n",
       "      <td>0.0</td>\n",
       "      <td>1.0</td>\n",
       "      <td>0.0</td>\n",
       "      <td>1.0</td>\n",
       "      <td>0.0</td>\n",
       "      <td>0.0</td>\n",
       "      <td>0.0</td>\n",
       "      <td>0.0</td>\n",
       "      <td>0.0</td>\n",
       "      <td>0.0</td>\n",
       "      <td>0.0</td>\n",
       "      <td>0.0</td>\n",
       "      <td>14.0</td>\n",
       "    </tr>\n",
       "    <tr>\n",
       "      <th>7</th>\n",
       "      <td>0.0</td>\n",
       "      <td>0.0</td>\n",
       "      <td>0.0</td>\n",
       "      <td>1.0</td>\n",
       "      <td>0.0</td>\n",
       "      <td>0.0</td>\n",
       "      <td>0.0</td>\n",
       "      <td>0.0</td>\n",
       "      <td>0.0</td>\n",
       "      <td>0.0</td>\n",
       "      <td>1.0</td>\n",
       "      <td>0.0</td>\n",
       "      <td>11.0</td>\n",
       "    </tr>\n",
       "    <tr>\n",
       "      <th>8</th>\n",
       "      <td>0.0</td>\n",
       "      <td>1.0</td>\n",
       "      <td>0.0</td>\n",
       "      <td>0.0</td>\n",
       "      <td>0.0</td>\n",
       "      <td>0.0</td>\n",
       "      <td>0.0</td>\n",
       "      <td>1.0</td>\n",
       "      <td>1.0</td>\n",
       "      <td>0.0</td>\n",
       "      <td>0.0</td>\n",
       "      <td>0.0</td>\n",
       "      <td>14.0</td>\n",
       "    </tr>\n",
       "    <tr>\n",
       "      <th>9</th>\n",
       "      <td>0.0</td>\n",
       "      <td>0.0</td>\n",
       "      <td>0.0</td>\n",
       "      <td>0.0</td>\n",
       "      <td>0.0</td>\n",
       "      <td>1.0</td>\n",
       "      <td>1.0</td>\n",
       "      <td>0.0</td>\n",
       "      <td>0.0</td>\n",
       "      <td>0.0</td>\n",
       "      <td>0.0</td>\n",
       "      <td>0.0</td>\n",
       "      <td>12.0</td>\n",
       "    </tr>\n",
       "  </tbody>\n",
       "</table>\n",
       "</div>"
      ],
      "text/plain": [
       "   age  sex  histologic-type  bone  lung  peritoneum  liver  neck  \\\n",
       "0  2.0  0.0             -1.0   0.0   0.0         0.0    1.0   0.0   \n",
       "1  2.0  1.0             -1.0   0.0   0.0         0.0    1.0   0.0   \n",
       "2  0.0  0.0              0.0   0.0   0.0         0.0    0.0   0.0   \n",
       "3  0.0  0.0              0.0   0.0   0.0         1.0    0.0   0.0   \n",
       "4  0.0  0.0              0.0   0.0   0.0         1.0    0.0   0.0   \n",
       "5  0.0  1.0              0.0   0.0   0.0         0.0    1.0   0.0   \n",
       "6  0.0  1.0              0.0   1.0   0.0         0.0    0.0   0.0   \n",
       "7  0.0  0.0              0.0   1.0   0.0         0.0    0.0   0.0   \n",
       "8  0.0  1.0              0.0   0.0   0.0         0.0    0.0   1.0   \n",
       "9  0.0  0.0              0.0   0.0   0.0         1.0    1.0   0.0   \n",
       "\n",
       "   supraclavicular  axillar  mediastinum  abdominal  class  \n",
       "0              0.0      0.0          0.0        0.0   11.0  \n",
       "1              1.0      0.0          1.0        0.0   11.0  \n",
       "2              0.0      1.0          0.0        0.0    1.0  \n",
       "3              0.0      0.0          0.0        0.0   12.0  \n",
       "4              0.0      0.0          0.0        0.0   12.0  \n",
       "5              0.0      0.0          0.0        0.0    3.0  \n",
       "6              0.0      0.0          0.0        0.0   14.0  \n",
       "7              0.0      0.0          1.0        0.0   11.0  \n",
       "8              1.0      0.0          0.0        0.0   14.0  \n",
       "9              0.0      0.0          0.0        0.0   12.0  "
      ]
     },
     "execution_count": 26,
     "metadata": {},
     "output_type": "execute_result"
    }
   ],
   "source": [
    "dependent.head(10)"
   ]
  },
  {
   "cell_type": "code",
   "execution_count": 39,
   "metadata": {
    "collapsed": false,
    "deletable": true,
    "editable": true
   },
   "outputs": [
    {
     "name": "stderr",
     "output_type": "stream",
     "text": [
      "Using TensorFlow backend.\n",
      "C:\\Users\\joel\\AppData\\Local\\Enthought\\Canopy\\edm\\envs\\User\\lib\\site-packages\\tensorflow\\python\\framework\\dtypes.py:526: FutureWarning: Passing (type, 1) or '1type' as a synonym of type is deprecated; in a future version of numpy, it will be understood as (type, (1,)) / '(1,)type'.\n",
      "  _np_qint8 = np.dtype([(\"qint8\", np.int8, 1)])\n",
      "C:\\Users\\joel\\AppData\\Local\\Enthought\\Canopy\\edm\\envs\\User\\lib\\site-packages\\tensorflow\\python\\framework\\dtypes.py:527: FutureWarning: Passing (type, 1) or '1type' as a synonym of type is deprecated; in a future version of numpy, it will be understood as (type, (1,)) / '(1,)type'.\n",
      "  _np_quint8 = np.dtype([(\"quint8\", np.uint8, 1)])\n",
      "C:\\Users\\joel\\AppData\\Local\\Enthought\\Canopy\\edm\\envs\\User\\lib\\site-packages\\tensorflow\\python\\framework\\dtypes.py:528: FutureWarning: Passing (type, 1) or '1type' as a synonym of type is deprecated; in a future version of numpy, it will be understood as (type, (1,)) / '(1,)type'.\n",
      "  _np_qint16 = np.dtype([(\"qint16\", np.int16, 1)])\n",
      "C:\\Users\\joel\\AppData\\Local\\Enthought\\Canopy\\edm\\envs\\User\\lib\\site-packages\\tensorflow\\python\\framework\\dtypes.py:529: FutureWarning: Passing (type, 1) or '1type' as a synonym of type is deprecated; in a future version of numpy, it will be understood as (type, (1,)) / '(1,)type'.\n",
      "  _np_quint16 = np.dtype([(\"quint16\", np.uint16, 1)])\n",
      "C:\\Users\\joel\\AppData\\Local\\Enthought\\Canopy\\edm\\envs\\User\\lib\\site-packages\\tensorflow\\python\\framework\\dtypes.py:530: FutureWarning: Passing (type, 1) or '1type' as a synonym of type is deprecated; in a future version of numpy, it will be understood as (type, (1,)) / '(1,)type'.\n",
      "  _np_qint32 = np.dtype([(\"qint32\", np.int32, 1)])\n",
      "C:\\Users\\joel\\AppData\\Local\\Enthought\\Canopy\\edm\\envs\\User\\lib\\site-packages\\tensorflow\\python\\framework\\dtypes.py:535: FutureWarning: Passing (type, 1) or '1type' as a synonym of type is deprecated; in a future version of numpy, it will be understood as (type, (1,)) / '(1,)type'.\n",
      "  np_resource = np.dtype([(\"resource\", np.ubyte, 1)])\n"
     ]
    },
    {
     "name": "stdout",
     "output_type": "stream",
     "text": [
      "train_data:  (247, 26) test_data:  (62, 26)\n",
      "train_target:  (247, 21) test_target:  (62, 21)\n"
     ]
    }
   ],
   "source": [
    "from keras import models\n",
    "from keras import layers\n",
    "\n",
    "# because the dataset is too small, we need to apply k-fold cross validation over this dataset\n",
    "# because less dataset can cause more overfitting and creating a validation data out of such small dataset would only capture \n",
    "# small variance of the entire dataset and then checking the error metrics of the model over such validation data-\n",
    "# -would not yield good results\n",
    "# create a function that returns a model designed as per our feature and problem requirements\n",
    "def build_model():\n",
    "    model = models.Sequential()\n",
    "    model.add(layers.Dense(32, activation='relu', input_shape=(26,)))\n",
    "    model.add(layers.Dense(64, activation='relu'))\n",
    "    model.add(layers.Dense(21, activation='softmax')) # because of multi-class labels\n",
    "    # defining the optimizer and loss and accuracy parameters\n",
    "    model.compile(optimizer='rmsprop',loss='categorical_crossentropy',metrics=['accuracy'])\n",
    "    return model\n",
    "\n",
    "\n",
    "train_data,test_data,train_targets,test_targets = train_test_split(dependent,target,test_size=0.2)\n",
    "print ('train_data: ',train_data.shape,'test_data: ',test_data.shape)\n",
    "print ('train_target: ',train_targets.shape,'test_target: ',test_targets.shape)"
   ]
  },
  {
   "cell_type": "code",
   "execution_count": 41,
   "metadata": {
    "collapsed": false,
    "deletable": true,
    "editable": true
   },
   "outputs": [
    {
     "name": "stdout",
     "output_type": "stream",
     "text": [
      "processing fold # 0\n",
      "processing fold # 1\n",
      "processing fold # 2\n",
      "processing fold # 3\n",
      "[[2.400161235058894, 0.360655740636294], [3.3339821197947517, 0.3442622982576245], [1.915415666142448, 0.49180327429146065], [2.468077190586778, 0.39344261122531576]]\n",
      "mean - validation loss:  2.529409052895718  mean - validation accuracy:  0.3975409811026737\n"
     ]
    },
    {
     "data": {
      "image/png": "[encoded data removed]",
      "text/plain": [
       "<matplotlib.figure.Figure at 0x1dfc08c5978>"
      ]
     },
     "metadata": {},
     "output_type": "display_data"
    }
   ],
   "source": [
    "# the k-fold(4) model average\n",
    "\n",
    "import numpy as np\n",
    "k = 4\n",
    "num_val_samples = len(train_data) // k\n",
    "num_epochs = 50 # we'll do the k-fold over 50 epochs\n",
    "all_scores = [] # maintain a score of accuracy and loss of validation data over the different folds\n",
    "loss = np.array([0*num_epochs])\n",
    "val_loss = np.array([0*num_epochs])\n",
    "\n",
    "# creating a loop for seperating training and validation data for every fold and storing their respective loss and accuracy values\n",
    "for i in range(k):\n",
    "    print('processing fold #', i)\n",
    "    val_data = train_data[i * num_val_samples: (i + 1) * num_val_samples]\n",
    "    val_targets = train_targets[i * num_val_samples: (i + 1) * num_val_samples]\n",
    "    partial_train_data = np.concatenate([train_data[:i * num_val_samples],train_data[(i + 1) * num_val_samples:]],axis=0)\n",
    "    partial_train_targets = np.concatenate([train_targets[:i * num_val_samples],train_targets[(i + 1) * num_val_samples:]],axis=0)\n",
    "    model = build_model()\n",
    "    history =  model.fit(partial_train_data, partial_train_targets,epochs=num_epochs, batch_size=8, validation_data =(val_data,val_targets),verbose=0) # with batch=1 we are going 'sgd'\n",
    "    # has values training and validation loss\n",
    "    loss = np.add(loss,history.history['loss'])\n",
    "    val_loss = np.add(val_loss,history.history['val_loss']) \n",
    "    results = model.evaluate(val_data, val_targets, verbose=0)\n",
    "    all_scores.append(results) # results has values loss and accuracy\n",
    "    \n",
    "epochs = range(1, len(loss) + 1)\n",
    "print (all_scores)\n",
    "losses = [i[0] for i in all_scores]\n",
    "acc = [i[1] for i in all_scores]\n",
    "print ('mean - validation loss: ',np.mean(losses),' mean - validation accuracy: ',np.mean(acc))\n",
    "# average loss and average accuracy over validation data of the 4 different folds of the dataset\n",
    "\n",
    "# visualizing epochs vs loss graph\n",
    "plt.plot(epochs, loss/4, 'bo', label='mean Training loss')\n",
    "plt.plot(epochs, val_loss/4, 'b', label='mean Validation loss')\n",
    "plt.title('Training and validation loss')\n",
    "plt.xlabel('Epochs')\n",
    "plt.ylabel('Loss')\n",
    "plt.legend()\n",
    "plt.show()    "
   ]
  },
  {
   "cell_type": "code",
   "execution_count": 46,
   "metadata": {
    "collapsed": false,
    "deletable": true,
    "editable": true
   },
   "outputs": [
    {
     "name": "stdout",
     "output_type": "stream",
     "text": [
      "Train on 247 samples, validate on 62 samples\n",
      "Epoch 1/15\n",
      "247/247 [==============================] - 1s 4ms/step - loss: 2.6257 - acc: 0.2713 - val_loss: 2.5342 - val_acc: 0.2581\b\b\b\b\b\b\b\b\b\b\b\b\b\b\b\b\b\b\b\b\b\b\b\b\b\b\b\b\b\b\b\b\b\b\b\b\b\b\b\b\b\b\b\b\b\b\b\b\b\b\b\b\b\b\b\b\b\b\b\b\b\b\b\b\b\b\b\b\b\b\b\b\b\b\b\b\b\b\b\b\b\b\b\b\b\b\b\b\b\b\b\b\b\b\b\b\b\b\b\b\b\b\b\b\b\b\b\b\b\b\b\b\b\b\b\b\b\b\b\b\b\b\b\b\b\b\b\b\b\b\b\b\b\b\b\b\b\b\b\b\b\b\b\b\b\b\b\b\b\b\b\b\b\b\b\b\b\b\b\b\b\b\b\b\b\b\b\b\b\b\b\b\b\b\b\b\b\b\b\b\b\b\b\b\b\b\b\b\b\b\b\b\b\b\b\b\b\b\b\b\b\b\b\b\b\b\b\b\b\b\b\b\b\b\b\b\b\b\b\b\b\b\b\b\b\b\b\b\b\b\b\b\b\b\b\b\b\b\b\b\b\b\b\b\b\b\b\b\b\b\b\b\b\b\b\b\b\b\b\b\b\b\b\b\b\b\b\b\b\b\b\b\b\b\b\b\b\b\b\b\b\b\b\b\b\b\b\b\b\b\b\b\b\b\b\b\b\b\b\b\b\b\b\b\b\b\b\b\b\b\b\b\b\b\b\b\b\b\b\b\b\b\b\b\b\b\b\b\b\b\b\b\b\b\b\b\b\b\b\b\b\b\b\b\b\b\b\b\b\b\b\b\b\b\b\b\b\b\b\b\b\b\b\b\b\b\b\b\b\b\b\b\b\b\b\b\b\b\b\b\b\b\b\b\b\b\b\b\b\b\b\b\b\b\b\b\b\b\b\b\b\b\b\b\b\b\b\b\b\b\b\b\b\b\b\b\b\b\b\b\b\b\b\b\b\b\b\b\b\b\b\b\b\b\b\b\b\b\b\b\b\b\b\b\b\n",
      "Epoch 2/15\n",
      "247/247 [==============================] - 0s 1ms/step - loss: 2.3054 - acc: 0.3077 - val_loss: 2.4320 - val_acc: 0.2903\b\b\b\b\b\b\b\b\b\b\b\b\b\b\b\b\b\b\b\b\b\b\b\b\b\b\b\b\b\b\b\b\b\b\b\b\b\b\b\b\b\b\b\b\b\b\b\b\b\b\b\b\b\b\b\b\b\b\b\b\b\b\b\b\b\b\b\b\b\b\b\b\b\b\b\b\b\b\b\b\b\b\b\b\b\b\b\b\b\b\b\b\b\b\b\b\b\b\b\b\b\b\b\b\b\b\b\b\b\b\b\b\b\b\b\b\b\b\b\b\b\b\b\b\b\b\b\b\b\b\b\b\b\b\b\b\b\b\b\b\b\b\b\b\b\b\b\b\b\b\b\b\b\b\b\b\b\b\b\b\b\b\b\b\b\b\b\b\b\b\b\b\b\b\b\b\b\b\b\b\b\b\b\b\b\b\b\b\b\b\b\b\b\b\b\b\b\b\b\b\b\b\b\b\b\b\b\b\b\b\b\b\b\b\b\b\b\b\b\b\b\b\b\b\b\b\b\b\b\b\b\b\b\b\b\b\b\b\b\b\b\b\b\b\b\b\b\b\b\b\b\b\b\b\b\b\b\b\b\b\b\b\b\b\b\b\b\b\b\b\b\b\b\b\b\b\b\b\b\b\b\b\b\b\b\b\b\b\b\b\b\b\b\b\b\b\b\b\b\b\b\b\b\b\b\b\b\b\b\b\b\b\b\b\b\b\b\b\b\b\b\b\b\b\b\b\b\b\b\b\b\b\b\b\b\b\b\b\b\b\b\b\b\b\b\b\b\b\b\b\b\b\b\b\b\b\b\b\b\b\b\b\b\b\b\b\b\b\b\b\b\b\b\b\b\b\b\b\b\b\b\b\b\b\b\b\b\b\b\b\b\b\b\b\b\b\b\b\b\b\b\b\b\b\b\b\b\b\b\b\b\b\b\b\b\b\b\b\b\b\b\b\b\b\b\b\b\b\b\b\b\b\b\n",
      "Epoch 3/15\n",
      "247/247 [==============================] - 0s 1ms/step - loss: 2.1368 - acc: 0.3482 - val_loss: 2.4020 - val_acc: 0.3226\b\b\b\b\b\b\b\b\b\b\b\b\b\b\b\b\b\b\b\b\b\b\b\b\b\b\b\b\b\b\b\b\b\b\b\b\b\b\b\b\b\b\b\b\b\b\b\b\b\b\b\b\b\b\b\b\b\b\b\b\b\b\b\b\b\b\b\b\b\b\b\b\b\b\b\b\b\b\b\b\b\b\b\b\b\b\b\b\b\b\b\b\b\b\b\b\b\b\b\b\b\b\b\b\b\b\b\b\b\b\b\b\b\b\b\b\b\b\b\b\b\b\b\b\b\b\b\b\b\b\b\b\b\b\b\b\b\b\b\b\b\b\b\b\b\b\b\b\b\b\b\b\b\b\b\b\b\b\b\b\b\b\b\b\b\b\b\b\b\b\b\b\b\b\b\b\b\b\b\b\b\b\b\b\b\b\b\b\b\b\b\b\b\b\b\b\b\b\b\b\b\b\b\b\b\b\b\b\b\b\b\b\b\b\b\b\b\b\b\b\b\b\b\b\b\b\b\b\b\b\b\b\b\b\b\b\b\b\b\b\b\b\b\b\b\b\b\b\b\b\b\b\b\b\b\b\b\b\b\b\b\b\b\b\b\b\b\b\b\b\b\b\b\b\b\b\b\b\b\b\b\b\b\b\b\b\b\b\b\b\b\b\b\b\b\b\b\b\b\b\b\b\b\b\b\b\b\b\b\b\b\b\b\b\b\b\b\b\b\b\b\b\b\b\b\b\b\b\b\b\b\b\b\b\b\b\b\b\b\b\b\b\b\b\b\b\b\b\b\b\b\b\b\b\b\b\b\b\b\b\b\b\b\b\b\b\b\b\b\b\b\b\b\b\b\b\b\b\b\b\b\b\b\b\b\b\b\b\b\b\b\b\b\b\b\b\b\b\b\b\b\b\b\b\b\b\b\b\b\b\b\b\b\b\b\b\b\b\b\b\b\b\b\b\b\b\b\b\b\b\b\b\b\b\b\b\b\b\b\b\b\n",
      "Epoch 4/15\n",
      "247/247 [==============================] - 0s 1ms/step - loss: 2.0266 - acc: 0.3644 - val_loss: 2.3346 - val_acc: 0.3226\b\b\b\b\b\b\b\b\b\b\b\b\b\b\b\b\b\b\b\b\b\b\b\b\b\b\b\b\b\b\b\b\b\b\b\b\b\b\b\b\b\b\b\b\b\b\b\b\b\b\b\b\b\b\b\b\b\b\b\b\b\b\b\b\b\b\b\b\b\b\b\b\b\b\b\b\b\b\b\b\b\b\b\b\b\b\b\b\b\b\b\b\b\b\b\b\b\b\b\b\b\b\b\b\b\b\b\b\b\b\b\b\b\b\b\b\b\b\b\b\b\b\b\b\b\b\b\b\b\b\b\b\b\b\b\b\b\b\b\b\b\b\b\b\b\b\b\b\b\b\b\b\b\b\b\b\b\b\b\b\b\b\b\b\b\b\b\b\b\b\b\b\b\b\b\b\b\b\b\b\b\b\b\b\b\b\b\b\b\b\b\b\b\b\b\b\b\b\b\b\b\b\b\b\b\b\b\b\b\b\b\b\b\b\b\b\b\b\b\b\b\b\b\b\b\b\b\b\b\b\b\b\b\b\b\b\b\b\b\b\b\b\b\b\b\b\b\b\b\b\b\b\b\b\b\b\b\b\b\b\b\b\b\b\b\b\b\b\b\b\b\b\b\b\b\b\b\b\b\b\b\b\b\b\b\b\b\b\b\b\b\b\b\b\b\b\b\b\b\b\b\b\b\b\b\b\b\b\b\b\b\b\b\b\b\b\b\b\b\b\b\b\b\b\b\b\b\b\b\b\b\b\b\b\b\b\b\b\b\b\b\b\b\b\b\b\b\b\b\b\b\b\b\b\b\b\b\b\b\b\b\b\b\b\b\b\b\b\b\b\b\b\b\b\b\b\b\b\b\b\b\b\b\b\b\b\b\b\b\b\b\b\b\b\b\b\b\b\b\b\b\b\b\b\b\b\b\b\b\b\b\b\b\b\b\b\b\b\b\b\b\b\b\b\b\b\b\b\b\b\b\b\b\b\b\b\b\b\b\b\b\n",
      "Epoch 5/15\n",
      "247/247 [==============================] - 0s 1ms/step - loss: 1.9320 - acc: 0.3684 - val_loss: 2.3180 - val_acc: 0.3226\b\b\b\b\b\b\b\b\b\b\b\b\b\b\b\b\b\b\b\b\b\b\b\b\b\b\b\b\b\b\b\b\b\b\b\b\b\b\b\b\b\b\b\b\b\b\b\b\b\b\b\b\b\b\b\b\b\b\b\b\b\b\b\b\b\b\b\b\b\b\b\b\b\b\b\b\b\b\b\b\b\b\b\b\b\b\b\b\b\b\b\b\b\b\b\b\b\b\b\b\b\b\b\b\b\b\b\b\b\b\b\b\b\b\b\b\b\b\b\b\b\b\b\b\b\b\b\b\b\b\b\b\b\b\b\b\b\b\b\b\b\b\b\b\b\b\b\b\b\b\b\b\b\b\b\b\b\b\b\b\b\b\b\b\b\b\b\b\b\b\b\b\b\b\b\b\b\b\b\b\b\b\b\b\b\b\b\b\b\b\b\b\b\b\b\b\b\b\b\b\b\b\b\b\b\b\b\b\b\b\b\b\b\b\b\b\b\b\b\b\b\b\b\b\b\b\b\b\b\b\b\b\b\b\b\b\b\b\b\b\b\b\b\b\b\b\b\b\b\b\b\b\b\b\b\b\b\b\b\b\b\b\b\b\b\b\b\b\b\b\b\b\b\b\b\b\b\b\b\b\b\b\b\b\b\b\b\b\b\b\b\b\b\b\b\b\b\b\b\b\b\b\b\b\b\b\b\b\b\b\b\b\b\b\b\b\b\b\b\b\b\b\b\b\b\b\b\b\b\b\b\b\b\b\b\b\b\b\b\b\b\b\b\b\b\b\b\b\b\b\b\b\b\b\b\b\b\b\b\b\b\b\b\b\b\b\b\b\b\b\b\b\b\b\b\b\b\b\b\b\b\b\b\b\b\b\b\b\b\b\b\b\b\b\b\b\b\b\b\b\b\b\b\b\b\b\b\b\b\b\b\b\b\b\b\b\b\b\b\b\b\b\b\b\b\b\b\b\b\b\b\b\b\n",
      "Epoch 6/15\n",
      "247/247 [==============================] - 0s 1ms/step - loss: 1.8544 - acc: 0.4291 - val_loss: 2.2592 - val_acc: 0.3871\b\b\b\b\b\b\b\b\b\b\b\b\b\b\b\b\b\b\b\b\b\b\b\b\b\b\b\b\b\b\b\b\b\b\b\b\b\b\b\b\b\b\b\b\b\b\b\b\b\b\b\b\b\b\b\b\b\b\b\b\b\b\b\b\b\b\b\b\b\b\b\b\b\b\b\b\b\b\b\b\b\b\b\b\b\b\b\b\b\b\b\b\b\b\b\b\b\b\b\b\b\b\b\b\b\b\b\b\b\b\b\b\b\b\b\b\b\b\b\b\b\b\b\b\b\b\b\b\b\b\b\b\b\b\b\b\b\b\b\b\b\b\b\b\b\b\b\b\b\b\b\b\b\b\b\b\b\b\b\b\b\b\b\b\b\b\b\b\b\b\b\b\b\b\b\b\b\b\b\b\b\b\b\b\b\b\b\b\b\b\b\b\b\b\b\b\b\b\b\b\b\b\b\b\b\b\b\b\b\b\b\b\b\b\b\b\b\b\b\b\b\b\b\b\b\b\b\b\b\b\b\b\b\b\b\b\b\b\b\b\b\b\b\b\b\b\b\b\b\b\b\b\b\b\b\b\b\b\b\b\b\b\b\b\b\b\b\b\b\b\b\b\b\b\b\b\b\b\b\b\b\b\b\b\b\b\b\b\b\b\b\b\b\b\b\b\b\b\b\b\b\b\b\b\b\b\b\b\b\b\b\b\b\b\b\b\b\b\b\b\b\b\b\b\b\b\b\b\b\b\b\b\b\b\b\b\b\b\b\b\b\b\b\b\b\b\b\b\b\b\b\b\b\b\b\b\b\b\b\b\b\b\b\b\b\b\b\b\b\b\b\b\b\b\b\b\b\b\b\b\b\b\b\b\b\b\b\b\b\b\b\b\b\b\b\b\b\b\b\b\b\b\b\b\b\b\b\b\b\b\b\b\b\b\b\b\b\b\b\b\b\b\b\b\b\b\b\b\b\b\b\b\b\n",
      "Epoch 7/15\n",
      "247/247 [==============================] - 0s 1ms/step - loss: 1.7962 - acc: 0.4575 - val_loss: 2.2254 - val_acc: 0.3871\b\b\b\b\b\b\b\b\b\b\b\b\b\b\b\b\b\b\b\b\b\b\b\b\b\b\b\b\b\b\b\b\b\b\b\b\b\b\b\b\b\b\b\b\b\b\b\b\b\b\b\b\b\b\b\b\b\b\b\b\b\b\b\b\b\b\b\b\b\b\b\b\b\b\b\b\b\b\b\b\b\b\b\b\b\b\b\b\b\b\b\b\b\b\b\b\b\b\b\b\b\b\b\b\b\b\b\b\b\b\b\b\b\b\b\b\b\b\b\b\b\b\b\b\b\b\b\b\b\b\b\b\b\b\b\b\b\b\b\b\b\b\b\b\b\b\b\b\b\b\b\b\b\b\b\b\b\b\b\b\b\b\b\b\b\b\b\b\b\b\b\b\b\b\b\b\b\b\b\b\b\b\b\b\b\b\b\b\b\b\b\b\b\b\b\b\b\b\b\b\b\b\b\b\b\b\b\b\b\b\b\b\b\b\b\b\b\b\b\b\b\b\b\b\b\b\b\b\b\b\b\b\b\b\b\b\b\b\b\b\b\b\b\b\b\b\b\b\b\b\b\b\b\b\b\b\b\b\b\b\b\b\b\b\b\b\b\b\b\b\b\b\b\b\b\b\b\b\b\b\b\b\b\b\b\b\b\b\b\b\b\b\b\b\b\b\b\b\b\b\b\b\b\b\b\b\b\b\b\b\b\b\b\b\b\b\b\b\b\b\b\b\b\b\b\b\b\b\b\b\b\b\b\b\b\b\b\b\b\b\b\b\b\b\b\b\b\b\b\b\b\b\b\b\b\b\b\b\b\b\b\b\b\b\b\b\b\b\b\b\b\b\b\b\b\b\b\b\b\b\b\b\b\b\b\b\b\b\b\b\b\b\b\b\b\b\b\b\b\b\b\b\b\b\b\b\b\b\b\b\b\b\b\b\b\b\b\b\b\b\b\b\b\b\b\b\b\b\b\b\b\b\b\b\b\b\b\b\b\b\b\b\b\b\b\b\b\b\b\b\b\b\b\b\b\b\b\b\b\b\b\b\b\b\b\b\b\b\b\b\b\b\b\b\b\b\b\b\b\b\b\b\b\b\b\b\b\b\b\b\b\b\b\b\b\b\b\b\b\b\b\b\b\b\b\b\b\b\b\b\b\b\n",
      "Epoch 8/15\n",
      "247/247 [==============================] - 0s 1ms/step - loss: 1.7348 - acc: 0.4737 - val_loss: 2.2298 - val_acc: 0.4194\b\b\b\b\b\b\b\b\b\b\b\b\b\b\b\b\b\b\b\b\b\b\b\b\b\b\b\b\b\b\b\b\b\b\b\b\b\b\b\b\b\b\b\b\b\b\b\b\b\b\b\b\b\b\b\b\b\b\b\b\b\b\b\b\b\b\b\b\b\b\b\b\b\b\b\b\b\b\b\b\b\b\b\b\b\b\b\b\b\b\b\b\b\b\b\b\b\b\b\b\b\b\b\b\b\b\b\b\b\b\b\b\b\b\b\b\b\b\b\b\b\b\b\b\b\b\b\b\b\b\b\b\b\b\b\b\b\b\b\b\b\b\b\b\b\b\b\b\b\b\b\b\b\b\b\b\b\b\b\b\b\b\b\b\b\b\b\b\b\b\b\b\b\b\b\b\b\b\b\b\b\b\b\b\b\b\b\b\b\b\b\b\b\b\b\b\b\b\b\b\b\b\b\b\b\b\b\b\b\b\b\b\b\b\b\b\b\b\b\b\b\b\b\b\b\b\b\b\b\b\b\b\b\b\b\b\b\b\b\b\b\b\b\b\b\b\b\b\b\b\b\b\b\b\b\b\b\b\b\b\b\b\b\b\b\b\b\b\b\b\b\b\b\b\b\b\b\b\b\b\b\b\b\b\b\b\b\b\b\b\b\b\b\b\b\b\b\b\b\b\b\b\b\b\b\b\b\b\b\b\b\b\b\b\b\b\b\b\b\b\b\b\b\b\b\b\b\b\b\b\b\b\b\b\b\b\b\b\b\b\b\b\b\b\b\b\b\b\b\b\b\b\b\b\b\b\b\b\b\b\b\b\b\b\b\b\b\b\b\b\b\b\b\b\b\b\b\b\b\b\b\b\b\b\b\b\b\b\b\b\b\b\b\b\b\b\b\b\b\b\b\b\b\b\b\b\b\b\b\b\b\b\b\b\b\b\b\b\b\b\b\b\b\b\b\b\b\b\b\b\b\b\b\b\b\b\b\b\b\b\b\n",
      "Epoch 9/15\n",
      "247/247 [==============================] - 0s 1ms/step - loss: 1.6857 - acc: 0.4777 - val_loss: 2.1850 - val_acc: 0.4032\b\b\b\b\b\b\b\b\b\b\b\b\b\b\b\b\b\b\b\b\b\b\b\b\b\b\b\b\b\b\b\b\b\b\b\b\b\b\b\b\b\b\b\b\b\b\b\b\b\b\b\b\b\b\b\b\b\b\b\b\b\b\b\b\b\b\b\b\b\b\b\b\b\b\b\b\b\b\b\b\b\b\b\b\b\b\b\b\b\b\b\b\b\b\b\b\b\b\b\b\b\b\b\b\b\b\b\b\b\b\b\b\b\b\b\b\b\b\b\b\b\b\b\b\b\b\b\b\b\b\b\b\b\b\b\b\b\b\b\b\b\b\b\b\b\b\b\b\b\b\b\b\b\b\b\b\b\b\b\b\b\b\b\b\b\b\b\b\b\b\b\b\b\b\b\b\b\b\b\b\b\b\b\b\b\b\b\b\b\b\b\b\b\b\b\b\b\b\b\b\b\b\b\b\b\b\b\b\b\b\b\b\b\b\b\b\b\b\b\b\b\b\b\b\b\b\b\b\b\b\b\b\b\b\b\b\b\b\b\b\b\b\b\b\b\b\b\b\b\b\b\b\b\b\b\b\b\b\b\b\b\b\b\b\b\b\b\b\b\b\b\b\b\b\b\b\b\b\b\b\b\b\b\b\b\b\b\b\b\b\b\b\b\b\b\b\b\b\b\b\b\b\b\b\b\b\b\b\b\b\b\b\b\b\b\b\b\b\b\b\b\b\b\b\b\b\b\b\b\b\b\b\b\b\b\b\b\b\b\b\b\b\b\b\b\b\b\b\b\b\b\b\b\b\b\b\b\b\b\b\b\b\b\b\b\b\b\b\b\b\b\b\b\b\b\b\b\b\b\b\b\b\b\b\b\b\b\b\b\b\b\b\b\b\b\b\b\b\b\b\b\b\b\b\b\b\b\b\b\b\b\b\b\b\b\b\b\b\b\b\b\b\b\b\b\b\b\b\b\b\b\b\b\b\b\b\b\b\b\b\b\n",
      "Epoch 10/15\n",
      "247/247 [==============================] - 0s 1ms/step - loss: 1.6458 - acc: 0.5101 - val_loss: 2.3360 - val_acc: 0.4032\b\b\b\b\b\b\b\b\b\b\b\b\b\b\b\b\b\b\b\b\b\b\b\b\b\b\b\b\b\b\b\b\b\b\b\b\b\b\b\b\b\b\b\b\b\b\b\b\b\b\b\b\b\b\b\b\b\b\b\b\b\b\b\b\b\b\b\b\b\b\b\b\b\b\b\b\b\b\b\b\b\b\b\b\b\b\b\b\b\b\b\b\b\b\b\b\b\b\b\b\b\b\b\b\b\b\b\b\b\b\b\b\b\b\b\b\b\b\b\b\b\b\b\b\b\b\b\b\b\b\b\b\b\b\b\b\b\b\b\b\b\b\b\b\b\b\b\b\b\b\b\b\b\b\b\b\b\b\b\b\b\b\b\b\b\b\b\b\b\b\b\b\b\b\b\b\b\b\b\b\b\b\b\b\b\b\b\b\b\b\b\b\b\b\b\b\b\b\b\b\b\b\b\b\b\b\b\b\b\b\b\b\b\b\b\b\b\b\b\b\b\b\b\b\b\b\b\b\b\b\b\b\b\b\b\b\b\b\b\b\b\b\b\b\b\b\b\b\b\b\b\b\b\b\b\b\b\b\b\b\b\b\b\b\b\b\b\b\b\b\b\b\b\b\b\b\b\b\b\b\b\b\b\b\b\b\b\b\b\b\b\b\b\b\b\b\b\b\b\b\b\b\b\b\b\b\b\b\b\b\b\b\b\b\b\b\b\b\b\b\b\b\b\b\b\b\b\b\b\b\b\b\b\b\b\b\b\b\b\b\b\b\b\b\b\b\b\b\b\b\b\b\b\b\b\b\b\b\b\b\b\b\b\b\b\b\b\b\b\b\b\b\b\b\b\b\b\b\b\b\b\b\b\b\b\b\b\b\b\b\b\b\b\b\b\b\b\b\b\b\b\b\b\b\b\b\b\b\b\b\b\b\b\b\b\b\b\b\b\b\b\b\b\b\b\b\b\b\b\b\b\b\b\b\b\b\b\b\b\b\b\b\b\b\b\b\b\b\b\b\b\b\b\b\b\b\b\b\b\b\b\b\b\b\b\b\b\b\b\b\b\b\b\b\b\b\b\b\b\b\b\b\b\b\b\b\b\b\b\b\b\b\b\b\b\b\b\b\b\b\b\b\b\b\b\b\b\b\b\b\b\b\n",
      "Epoch 11/15\n",
      "247/247 [==============================] - 0s 1ms/step - loss: 1.6263 - acc: 0.5142 - val_loss: 2.1853 - val_acc: 0.4355\b\b\b\b\b\b\b\b\b\b\b\b\b\b\b\b\b\b\b\b\b\b\b\b\b\b\b\b\b\b\b\b\b\b\b\b\b\b\b\b\b\b\b\b\b\b\b\b\b\b\b\b\b\b\b\b\b\b\b\b\b\b\b\b\b\b\b\b\b\b\b\b\b\b\b\b\b\b\b\b\b\b\b\b\b\b\b\b\b\b\b\b\b\b\b\b\b\b\b\b\b\b\b\b\b\b\b\b\b\b\b\b\b\b\b\b\b\b\b\b\b\b\b\b\b\b\b\b\b\b\b\b\b\b\b\b\b\b\b\b\b\b\b\b\b\b\b\b\b\b\b\b\b\b\b\b\b\b\b\b\b\b\b\b\b\b\b\b\b\b\b\b\b\b\b\b\b\b\b\b\b\b\b\b\b\b\b\b\b\b\b\b\b\b\b\b\b\b\b\b\b\b\b\b\b\b\b\b\b\b\b\b\b\b\b\b\b\b\b\b\b\b\b\b\b\b\b\b\b\b\b\b\b\b\b\b\b\b\b\b\b\b\b\b\b\b\b\b\b\b\b\b\b\b\b\b\b\b\b\b\b\b\b\b\b\b\b\b\b\b\b\b\b\b\b\b\b\b\b\b\b\b\b\b\b\b\b\b\b\b\b\b\b\b\b\b\b\b\b\b\b\b\b\b\b\b\b\b\b\b\b\b\b\b\b\b\b\b\b\b\b\b\b\b\b\b\b\b\b\b\b\b\b\b\b\b\b\b\b\b\b\b\b\b\b\b\b\b\b\b\b\b\b\b\b\b\b\b\b\b\b\b\b\b\b\b\b\b\b\b\b\b\b\b\b\b\b\b\b\b\b\b\b\b\b\b\b\b\b\b\b\b\b\b\b\b\b\b\b\b\b\b\b\b\b\b\b\b\b\b\b\b\b\b\b\b\b\b\b\b\b\b\b\b\b\b\b\b\b\b\b\b\b\n",
      "Epoch 12/15\n",
      "247/247 [==============================] - 0s 1ms/step - loss: 1.5996 - acc: 0.5101 - val_loss: 2.1666 - val_acc: 0.4516\b\b\b\b\b\b\b\b\b\b\b\b\b\b\b\b\b\b\b\b\b\b\b\b\b\b\b\b\b\b\b\b\b\b\b\b\b\b\b\b\b\b\b\b\b\b\b\b\b\b\b\b\b\b\b\b\b\b\b\b\b\b\b\b\b\b\b\b\b\b\b\b\b\b\b\b\b\b\b\b\b\b\b\b\b\b\b\b\b\b\b\b\b\b\b\b\b\b\b\b\b\b\b\b\b\b\b\b\b\b\b\b\b\b\b\b\b\b\b\b\b\b\b\b\b\b\b\b\b\b\b\b\b\b\b\b\b\b\b\b\b\b\b\b\b\b\b\b\b\b\b\b\b\b\b\b\b\b\b\b\b\b\b\b\b\b\b\b\b\b\b\b\b\b\b\b\b\b\b\b\b\b\b\b\b\b\b\b\b\b\b\b\b\b\b\b\b\b\b\b\b\b\b\b\b\b\b\b\b\b\b\b\b\b\b\b\b\b\b\b\b\b\b\b\b\b\b\b\b\b\b\b\b\b\b\b\b\b\b\b\b\b\b\b\b\b\b\b\b\b\b\b\b\b\b\b\b\b\b\b\b\b\b\b\b\b\b\b\b\b\b\b\b\b\b\b\b\b\b\b\b\b\b\b\b\b\b\b\b\b\b\b\b\b\b\b\b\b\b\b\b\b\b\b\b\b\b\b\b\b\b\b\b\b\b\b\b\b\b\b\b\b\b\b\b\b\b\b\b\b\b\b\b\b\b\b\b\b\b\b\b\b\b\b\b\b\b\b\b\b\b\b\b\b\b\b\b\b\b\b\b\b\b\b\b\b\b\b\b\b\b\b\b\b\b\b\b\b\b\b\b\b\b\b\b\b\b\b\b\b\b\b\b\b\b\b\b\b\b\b\b\b\b\b\b\b\b\b\b\b\b\b\b\b\b\b\b\b\b\b\b\b\b\b\b\b\b\b\b\b\b\b\b\b\b\b\b\b\b\b\b\n",
      "Epoch 13/15\n",
      "247/247 [==============================] - 0s 1ms/step - loss: 1.5589 - acc: 0.5344 - val_loss: 2.2377 - val_acc: 0.4194\b\b\b\b\b\b\b\b\b\b\b\b\b\b\b\b\b\b\b\b\b\b\b\b\b\b\b\b\b\b\b\b\b\b\b\b\b\b\b\b\b\b\b\b\b\b\b\b\b\b\b\b\b\b\b\b\b\b\b\b\b\b\b\b\b\b\b\b\b\b\b\b\b\b\b\b\b\b\b\b\b\b\b\b\b\b\b\b\b\b\b\b\b\b\b\b\b\b\b\b\b\b\b\b\b\b\b\b\b\b\b\b\b\b\b\b\b\b\b\b\b\b\b\b\b\b\b\b\b\b\b\b\b\b\b\b\b\b\b\b\b\b\b\b\b\b\b\b\b\b\b\b\b\b\b\b\b\b\b\b\b\b\b\b\b\b\b\b\b\b\b\b\b\b\b\b\b\b\b\b\b\b\b\b\b\b\b\b\b\b\b\b\b\b\b\b\b\b\b\b\b\b\b\b\b\b\b\b\b\b\b\b\b\b\b\b\b\b\b\b\b\b\b\b\b\b\b\b\b\b\b\b\b\b\b\b\b\b\b\b\b\b\b\b\b\b\b\b\b\b\b\b\b\b\b\b\b\b\b\b\b\b\b\b\b\b\b\b\b\b\b\b\b\b\b\b\b\b\b\b\b\b\b\b\b\b\b\b\b\b\b\b\b\b\b\b\b\b\b\b\b\b\b\b\b\b\b\b\b\b\b\b\b\b\b\b\b\b\b\b\b\b\b\b\b\b\b\b\b\b\b\b\b\b\b\b\b\b\b\b\b\b\b\b\b\b\b\b\b\b\b\b\b\b\b\b\b\b\b\b\b\b\b\b\b\b\b\b\b\b\b\b\b\b\b\b\b\b\b\b\b\b\b\b\b\b\b\b\b\b\b\b\b\b\b\b\b\b\b\b\b\b\b\b\b\b\b\b\b\b\b\b\b\b\b\b\b\b\b\b\b\b\b\b\b\b\b\b\b\b\b\b\b\b\b\b\b\b\b\b\b\n",
      "Epoch 14/15\n",
      "247/247 [==============================] - 0s 1ms/step - loss: 1.5419 - acc: 0.5304 - val_loss: 2.2227 - val_acc: 0.4355\b\b\b\b\b\b\b\b\b\b\b\b\b\b\b\b\b\b\b\b\b\b\b\b\b\b\b\b\b\b\b\b\b\b\b\b\b\b\b\b\b\b\b\b\b\b\b\b\b\b\b\b\b\b\b\b\b\b\b\b\b\b\b\b\b\b\b\b\b\b\b\b\b\b\b\b\b\b\b\b\b\b\b\b\b\b\b\b\b\b\b\b\b\b\b\b\b\b\b\b\b\b\b\b\b\b\b\b\b\b\b\b\b\b\b\b\b\b\b\b\b\b\b\b\b\b\b\b\b\b\b\b\b\b\b\b\b\b\b\b\b\b\b\b\b\b\b\b\b\b\b\b\b\b\b\b\b\b\b\b\b\b\b\b\b\b\b\b\b\b\b\b\b\b\b\b\b\b\b\b\b\b\b\b\b\b\b\b\b\b\b\b\b\b\b\b\b\b\b\b\b\b\b\b\b\b\b\b\b\b\b\b\b\b\b\b\b\b\b\b\b\b\b\b\b\b\b\b\b\b\b\b\b\b\b\b\b\b\b\b\b\b\b\b\b\b\b\b\b\b\b\b\b\b\b\b\b\b\b\b\b\b\b\b\b\b\b\b\b\b\b\b\b\b\b\b\b\b\b\b\b\b\b\b\b\b\b\b\b\b\b\b\b\b\b\b\b\b\b\b\b\b\b\b\b\b\b\b\b\b\b\b\b\b\b\b\b\b\b\b\b\b\b\b\b\b\b\b\b\b\b\b\b\b\b\b\b\b\b\b\b\b\b\b\b\b\b\b\b\b\b\b\b\b\b\b\b\b\b\b\b\b\b\b\b\b\b\b\b\b\b\b\b\b\b\b\b\b\b\b\b\b\b\b\b\b\b\b\b\b\b\b\b\b\b\b\b\b\b\b\b\b\b\b\b\b\b\b\b\b\b\b\b\b\b\b\b\b\b\b\b\b\b\b\b\b\b\b\b\b\b\b\b\b\b\b\b\b\b\b\b\b\b\b\b\b\b\b\b\b\b\b\b\b\b\b\b\b\b\b\b\b\b\b\b\b\b\b\b\b\b\b\b\b\b\b\b\b\b\b\b\b\b\b\b\b\b\b\b\b\b\b\b\b\b\b\b\b\b\b\b\b\b\b\b\b\b\b\b\b\b\b\n",
      "Epoch 15/15\n",
      "247/247 [==============================] - 0s 1ms/step - loss: 1.5132 - acc: 0.5668 - val_loss: 2.2418 - val_acc: 0.4355\b\b\b\b\b\b\b\b\b\b\b\b\b\b\b\b\b\b\b\b\b\b\b\b\b\b\b\b\b\b\b\b\b\b\b\b\b\b\b\b\b\b\b\b\b\b\b\b\b\b\b\b\b\b\b\b\b\b\b\b\b\b\b\b\b\b\b\b\b\b\b\b\b\b\b\b\b\b\b\b\b\b\b\b\b\b\b\b\b\b\b\b\b\b\b\b\b\b\b\b\b\b\b\b\b\b\b\b\b\b\b\b\b\b\b\b\b\b\b\b\b\b\b\b\b\b\b\b\b\b\b\b\b\b\b\b\b\b\b\b\b\b\b\b\b\b\b\b\b\b\b\b\b\b\b\b\b\b\b\b\b\b\b\b\b\b\b\b\b\b\b\b\b\b\b\b\b\b\b\b\b\b\b\b\b\b\b\b\b\b\b\b\b\b\b\b\b\b\b\b\b\b\b\b\b\b\b\b\b\b\b\b\b\b\b\b\b\b\b\b\b\b\b\b\b\b\b\b\b\b\b\b\b\b\b\b\b\b\b\b\b\b\b\b\b\b\b\b\b\b\b\b\b\b\b\b\b\b\b\b\b\b\b\b\b\b\b\b\b\b\b\b\b\b\b\b\b\b\b\b\b\b\b\b\b\b\b\b\b\b\b\b\b\b\b\b\b\b\b\b\b\b\b\b\b\b\b\b\b\b\b\b\b\b\b\b\b\b\b\b\b\b\b\b\b\b\b\b\b\b\b\b\b\b\b\b\b\b\b\b\b\b\b\b\b\b\b\b\b\b\b\b\b\b\b\b\b\b\b\b\b\b\b\b\b\b\b\b\b\b\b\b\b\b\b\b\b\b\b\b\b\b\b\b\b\b\b\b\b\b\b\b\b\b\b\b\b\b\b\b\b\b\b\b\b\b\b\b\b\b\b\b\b\b\b\b\b\b\b\b\b\b\b\b\b\b\b\b\b\b\b\b\b\b\b\b\b\b\b\b\b\b\b\b\b\b\b\b\b\b\b\b\b\b\b\b\b\b\b\b\b\b\b\b\b\b\b\b\b\b\b\b\b\b\b\b\b\b\b\b\b\b\b\b\b\b\b\b\b\b\b\b\b\b\b\b\b\b\b\b\b\b\b\b\b\b\b\b\b\b\b\b\b\b\b\b\b\b\b\b\n"
     ]
    },
    {
     "data": {
      "image/png": "[encoded data removed]",
      "text/plain": [
       "<matplotlib.figure.Figure at 0x1dfc1b60ac8>"
      ]
     },
     "metadata": {},
     "output_type": "display_data"
    },
    {
     "name": "stdout",
     "output_type": "stream",
     "text": [
      "62/62 [==============================] - 0s 48us/step\b\b\b\b\b\b\b\b\b\b\b\b\b\b\b\b\b\b\b\b\b\b\b\b\b\b\b\b\b\b\b\b\b\b\b\b\b\b\b\b\b\b\b\n",
      "loss :  1.6428581822303034\n",
      "acc :  0.5483870967741935\n"
     ]
    }
   ],
   "source": [
    "# the validation loss comes down till 15 epochs after which it only increases\n",
    "#  testing how one model scores with 15 epochs\n",
    "\n",
    "\n",
    "ptrain_data,x_val,ptrain_targets,y_val = train_test_split(dependent,target,test_size=0.2)\n",
    "model = build_model()\n",
    "history = model.fit(ptrain_data,ptrain_targets,batch_size=1,epochs=15,validation_data=(x_val, y_val))\n",
    "\n",
    "import matplotlib.pyplot as plt\n",
    "loss = history.history['loss']\n",
    "val_loss = history.history['val_loss']\n",
    "epochs = range(1, len(loss) + 1)\n",
    "plt.plot(epochs, loss, 'bo', label='Training loss')\n",
    "plt.plot(epochs, val_loss, 'b', label='Validation loss')\n",
    "plt.title('Training and validation loss')\n",
    "plt.xlabel('Epochs')\n",
    "plt.ylabel('Loss')\n",
    "plt.legend()\n",
    "plt.show()\n",
    "\n",
    "results = model.evaluate(test_data,test_targets)\n",
    "#help(model.evaluate)\n",
    "for i in range(len(results)):\n",
    "    print (model.metrics_names[i],': ',results[i])"
   ]
  },
  {
   "cell_type": "code",
   "execution_count": null,
   "metadata": {
    "collapsed": true
   },
   "outputs": [],
   "source": [
    "# at batch=1 and 15 epochs\n",
    "# loss :  1.6569230479578818\n",
    "# acc :  0.5483870967741935\n",
    "# so reducing the epoch numbers worked"
   ]
  },
  {
   "cell_type": "code",
   "execution_count": null,
   "metadata": {
    "collapsed": true
   },
   "outputs": [],
   "source": [
    "# ---------------------------------------CONCLUSION---------------------------------------#\n",
    "\n",
    "                Decision-Trees   Random-Forests  Naive-Bayes    KNN        DNN\n",
    "accuracy_score:  22.58  %         33.87  %        38.71  %     40.32  %   54.83 %\n",
    "MAE:              5.48             3.73            3.56         3.71       1.65\n",
    "    \n",
    "# we can see that Deep-Neural_network has the highest-accuracy and lowest-loss among all other ML models.\n",
    "# so DNN would be as suitable model for this dataset."
   ]
  }
 ],
 "metadata": {
  "kernelspec": {
   "display_name": "Python 3",
   "language": "python",
   "name": "python3"
  },
  "language_info": {
   "codemirror_mode": {
    "name": "ipython",
    "version": 3
   },
   "file_extension": ".py",
   "mimetype": "text/x-python",
   "name": "python",
   "nbconvert_exporter": "python",
   "pygments_lexer": "ipython3",
   "version": "3.5.2"
  }
 },
 "nbformat": 4,
 "nbformat_minor": 2
}
